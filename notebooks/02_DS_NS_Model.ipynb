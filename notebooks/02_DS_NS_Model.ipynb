{
 "cells": [
  {
   "cell_type": "code",
   "execution_count": 169,
   "id": "6cdf3f84-ace1-4bb8-b826-76ac0b08b50f",
   "metadata": {},
   "outputs": [],
   "source": [
    "import pandas as pd\n",
    "import numpy as np\n",
    "import xgboost as xgb\n",
    "from sklearn.pipeline import Pipeline\n",
    "from sklearn.preprocessing import StandardScaler\n",
    "from sklearn.compose import ColumnTransformer\n",
    "import xgboost as xgb\n",
    "from xgboost import XGBClassifier\n",
    "import lightgbm as lgb\n",
    "from sklearn.metrics import accuracy_score\n",
    "from category_encoders import TargetEncoder\n",
    "\n",
    "from sklearn.metrics import accuracy_score\n",
    "from sklearn.metrics import classification_report\n",
    "import seaborn as sns\n",
    "from sklearn.metrics import confusion_matrix\n",
    "from sklearn.model_selection import KFold\n",
    "from sklearn.metrics import roc_auc_score\n",
    "from lightgbm import early_stopping\n",
    "from sklearn.metrics import roc_curve\n",
    "from sklearn.metrics import roc_auc_score\n",
    "from matplotlib import pyplot\n",
    "\n",
    "import warnings\n",
    "warnings.filterwarnings(\"ignore\")"
   ]
  },
  {
   "cell_type": "markdown",
   "id": "c31fcd1f-3391-4e12-b70c-ab29e6f62d49",
   "metadata": {
    "tags": []
   },
   "source": [
    "### Load data\n",
    "- Obtenemos el dataset generado en notebook 01_DS_NS_features.ipynb"
   ]
  },
  {
   "cell_type": "code",
   "execution_count": 2,
   "id": "cc2a341a-37f9-4603-bcac-4038977b921d",
   "metadata": {},
   "outputs": [],
   "source": [
    "train_data = pd.read_parquet('data/train_data.parquet')  \n",
    "test_data = pd.read_parquet('data/test_data.parquet')  "
   ]
  },
  {
   "cell_type": "code",
   "execution_count": 3,
   "id": "b16c80e0-c3ed-4760-95ef-473b47249a38",
   "metadata": {},
   "outputs": [
    {
     "name": "stdout",
     "output_type": "stream",
     "text": [
      "train_shape: (14063903, 32)\n",
      "test_shape: (5936360, 32)\n"
     ]
    }
   ],
   "source": [
    "print('train_shape:', train_data.shape)\n",
    "print('test_shape:', test_data.shape)"
   ]
  },
  {
   "cell_type": "code",
   "execution_count": 4,
   "id": "670b287a-46f5-4cf1-ae5a-93f35ae5dd8f",
   "metadata": {},
   "outputs": [
    {
     "data": {
      "text/html": [
       "<div>\n",
       "<style scoped>\n",
       "    .dataframe tbody tr th:only-of-type {\n",
       "        vertical-align: middle;\n",
       "    }\n",
       "\n",
       "    .dataframe tbody tr th {\n",
       "        vertical-align: top;\n",
       "    }\n",
       "\n",
       "    .dataframe thead th {\n",
       "        text-align: right;\n",
       "    }\n",
       "</style>\n",
       "<table border=\"1\" class=\"dataframe\">\n",
       "  <thead>\n",
       "    <tr style=\"text-align: right;\">\n",
       "      <th></th>\n",
       "      <th></th>\n",
       "      <th>fl_high</th>\n",
       "      <th>lag_rating</th>\n",
       "      <th>mov_avg_rating</th>\n",
       "      <th>movies_views</th>\n",
       "      <th>avg_user_rating</th>\n",
       "      <th>std_user_rating</th>\n",
       "      <th>median_user_rating</th>\n",
       "      <th>antiguedad</th>\n",
       "      <th>year</th>\n",
       "      <th>Action</th>\n",
       "      <th>...</th>\n",
       "      <th>Mystery</th>\n",
       "      <th>Romance</th>\n",
       "      <th>Sci-Fi</th>\n",
       "      <th>Thriller</th>\n",
       "      <th>War</th>\n",
       "      <th>Western</th>\n",
       "      <th>movies_pop</th>\n",
       "      <th>avg_movie_rating</th>\n",
       "      <th>std_movie_rating</th>\n",
       "      <th>median_movie_rating</th>\n",
       "    </tr>\n",
       "    <tr>\n",
       "      <th>userId</th>\n",
       "      <th>movieId</th>\n",
       "      <th></th>\n",
       "      <th></th>\n",
       "      <th></th>\n",
       "      <th></th>\n",
       "      <th></th>\n",
       "      <th></th>\n",
       "      <th></th>\n",
       "      <th></th>\n",
       "      <th></th>\n",
       "      <th></th>\n",
       "      <th></th>\n",
       "      <th></th>\n",
       "      <th></th>\n",
       "      <th></th>\n",
       "      <th></th>\n",
       "      <th></th>\n",
       "      <th></th>\n",
       "      <th></th>\n",
       "      <th></th>\n",
       "      <th></th>\n",
       "      <th></th>\n",
       "    </tr>\n",
       "  </thead>\n",
       "  <tbody>\n",
       "    <tr>\n",
       "      <th rowspan=\"5\" valign=\"top\">1</th>\n",
       "      <th>2</th>\n",
       "      <td>0</td>\n",
       "      <td>4.0</td>\n",
       "      <td>3.7</td>\n",
       "      <td>175</td>\n",
       "      <td>3.742857</td>\n",
       "      <td>0.382284</td>\n",
       "      <td>4.0</td>\n",
       "      <td>204</td>\n",
       "      <td>1995</td>\n",
       "      <td>0</td>\n",
       "      <td>...</td>\n",
       "      <td>0</td>\n",
       "      <td>0</td>\n",
       "      <td>0</td>\n",
       "      <td>0</td>\n",
       "      <td>0</td>\n",
       "      <td>0</td>\n",
       "      <td>17276.0</td>\n",
       "      <td>3.233329</td>\n",
       "      <td>0.960672</td>\n",
       "      <td>3.0</td>\n",
       "    </tr>\n",
       "    <tr>\n",
       "      <th>29</th>\n",
       "      <td>0</td>\n",
       "      <td>3.5</td>\n",
       "      <td>3.7</td>\n",
       "      <td>175</td>\n",
       "      <td>3.742857</td>\n",
       "      <td>0.382284</td>\n",
       "      <td>4.0</td>\n",
       "      <td>204</td>\n",
       "      <td>1995</td>\n",
       "      <td>0</td>\n",
       "      <td>...</td>\n",
       "      <td>1</td>\n",
       "      <td>0</td>\n",
       "      <td>1</td>\n",
       "      <td>0</td>\n",
       "      <td>0</td>\n",
       "      <td>0</td>\n",
       "      <td>6241.0</td>\n",
       "      <td>3.982214</td>\n",
       "      <td>0.981849</td>\n",
       "      <td>4.0</td>\n",
       "    </tr>\n",
       "    <tr>\n",
       "      <th>32</th>\n",
       "      <td>0</td>\n",
       "      <td>3.5</td>\n",
       "      <td>3.7</td>\n",
       "      <td>175</td>\n",
       "      <td>3.742857</td>\n",
       "      <td>0.382284</td>\n",
       "      <td>4.0</td>\n",
       "      <td>204</td>\n",
       "      <td>1995</td>\n",
       "      <td>0</td>\n",
       "      <td>...</td>\n",
       "      <td>1</td>\n",
       "      <td>0</td>\n",
       "      <td>1</td>\n",
       "      <td>1</td>\n",
       "      <td>0</td>\n",
       "      <td>0</td>\n",
       "      <td>34883.0</td>\n",
       "      <td>3.874394</td>\n",
       "      <td>0.891318</td>\n",
       "      <td>4.0</td>\n",
       "    </tr>\n",
       "    <tr>\n",
       "      <th>47</th>\n",
       "      <td>0</td>\n",
       "      <td>4.0</td>\n",
       "      <td>3.9</td>\n",
       "      <td>175</td>\n",
       "      <td>3.742857</td>\n",
       "      <td>0.382284</td>\n",
       "      <td>4.0</td>\n",
       "      <td>204</td>\n",
       "      <td>1995</td>\n",
       "      <td>0</td>\n",
       "      <td>...</td>\n",
       "      <td>1</td>\n",
       "      <td>0</td>\n",
       "      <td>0</td>\n",
       "      <td>1</td>\n",
       "      <td>0</td>\n",
       "      <td>0</td>\n",
       "      <td>31690.0</td>\n",
       "      <td>4.021205</td>\n",
       "      <td>0.911578</td>\n",
       "      <td>4.0</td>\n",
       "    </tr>\n",
       "    <tr>\n",
       "      <th>50</th>\n",
       "      <td>0</td>\n",
       "      <td>3.0</td>\n",
       "      <td>3.4</td>\n",
       "      <td>175</td>\n",
       "      <td>3.742857</td>\n",
       "      <td>0.382284</td>\n",
       "      <td>4.0</td>\n",
       "      <td>204</td>\n",
       "      <td>1995</td>\n",
       "      <td>0</td>\n",
       "      <td>...</td>\n",
       "      <td>1</td>\n",
       "      <td>0</td>\n",
       "      <td>0</td>\n",
       "      <td>1</td>\n",
       "      <td>0</td>\n",
       "      <td>0</td>\n",
       "      <td>33907.0</td>\n",
       "      <td>4.367476</td>\n",
       "      <td>0.769318</td>\n",
       "      <td>4.5</td>\n",
       "    </tr>\n",
       "  </tbody>\n",
       "</table>\n",
       "<p>5 rows × 32 columns</p>\n",
       "</div>"
      ],
      "text/plain": [
       "                fl_high  lag_rating  mov_avg_rating  movies_views  \\\n",
       "userId movieId                                                      \n",
       "1      2              0         4.0             3.7           175   \n",
       "       29             0         3.5             3.7           175   \n",
       "       32             0         3.5             3.7           175   \n",
       "       47             0         4.0             3.9           175   \n",
       "       50             0         3.0             3.4           175   \n",
       "\n",
       "                avg_user_rating  std_user_rating  median_user_rating  \\\n",
       "userId movieId                                                         \n",
       "1      2               3.742857         0.382284                 4.0   \n",
       "       29              3.742857         0.382284                 4.0   \n",
       "       32              3.742857         0.382284                 4.0   \n",
       "       47              3.742857         0.382284                 4.0   \n",
       "       50              3.742857         0.382284                 4.0   \n",
       "\n",
       "                antiguedad  year  Action  ...  Mystery  Romance  Sci-Fi  \\\n",
       "userId movieId                            ...                             \n",
       "1      2               204  1995       0  ...        0        0       0   \n",
       "       29              204  1995       0  ...        1        0       1   \n",
       "       32              204  1995       0  ...        1        0       1   \n",
       "       47              204  1995       0  ...        1        0       0   \n",
       "       50              204  1995       0  ...        1        0       0   \n",
       "\n",
       "                Thriller  War  Western  movies_pop  avg_movie_rating  \\\n",
       "userId movieId                                                         \n",
       "1      2               0    0        0     17276.0          3.233329   \n",
       "       29              0    0        0      6241.0          3.982214   \n",
       "       32              1    0        0     34883.0          3.874394   \n",
       "       47              1    0        0     31690.0          4.021205   \n",
       "       50              1    0        0     33907.0          4.367476   \n",
       "\n",
       "                std_movie_rating  median_movie_rating  \n",
       "userId movieId                                         \n",
       "1      2                0.960672                  3.0  \n",
       "       29               0.981849                  4.0  \n",
       "       32               0.891318                  4.0  \n",
       "       47               0.911578                  4.0  \n",
       "       50               0.769318                  4.5  \n",
       "\n",
       "[5 rows x 32 columns]"
      ]
     },
     "execution_count": 4,
     "metadata": {},
     "output_type": "execute_result"
    }
   ],
   "source": [
    "train_data.head()"
   ]
  },
  {
   "cell_type": "markdown",
   "id": "189a982e-a9a6-4756-ad42-748b6b7effb6",
   "metadata": {},
   "source": [
    "### Balance Target"
   ]
  },
  {
   "cell_type": "markdown",
   "id": "7df95b6e-94e4-4020-a416-c10a82361883",
   "metadata": {},
   "source": [
    "- Definimos el target de acuerdo al challenge\n",
    "    * 1 in case the rating is >= 4 (flag for \"high\" rating) \n",
    "    * 0 in case the rating is < 4\n",
    "    \n",
    "- El dataset se encuentra balanceado por lo que no veo necesario de aplicar tecnicas de over-undes-smote sampling para tratar este problema."
   ]
  },
  {
   "cell_type": "code",
   "execution_count": 5,
   "id": "425077a5-12a2-4d0d-8b1b-b4c9c92c7817",
   "metadata": {},
   "outputs": [],
   "source": [
    "target = 'fl_high'"
   ]
  },
  {
   "cell_type": "code",
   "execution_count": 103,
   "id": "ba9d2714-88b0-4e1c-9656-8f75dd2206d1",
   "metadata": {},
   "outputs": [
    {
     "name": "stdout",
     "output_type": "stream",
     "text": [
      "balance del target en Train\n"
     ]
    },
    {
     "data": {
      "text/html": [
       "<div>\n",
       "<style scoped>\n",
       "    .dataframe tbody tr th:only-of-type {\n",
       "        vertical-align: middle;\n",
       "    }\n",
       "\n",
       "    .dataframe tbody tr th {\n",
       "        vertical-align: top;\n",
       "    }\n",
       "\n",
       "    .dataframe thead th {\n",
       "        text-align: right;\n",
       "    }\n",
       "</style>\n",
       "<table border=\"1\" class=\"dataframe\">\n",
       "  <thead>\n",
       "    <tr style=\"text-align: right;\">\n",
       "      <th></th>\n",
       "      <th>fl_high</th>\n",
       "      <th>0</th>\n",
       "      <th>Percentage</th>\n",
       "    </tr>\n",
       "  </thead>\n",
       "  <tbody>\n",
       "    <tr>\n",
       "      <th>0</th>\n",
       "      <td>0</td>\n",
       "      <td>6988030</td>\n",
       "      <td>49.6877</td>\n",
       "    </tr>\n",
       "    <tr>\n",
       "      <th>1</th>\n",
       "      <td>1</td>\n",
       "      <td>7075873</td>\n",
       "      <td>50.3123</td>\n",
       "    </tr>\n",
       "  </tbody>\n",
       "</table>\n",
       "</div>"
      ],
      "text/plain": [
       "   fl_high        0  Percentage\n",
       "0        0  6988030     49.6877\n",
       "1        1  7075873     50.3123"
      ]
     },
     "execution_count": 103,
     "metadata": {},
     "output_type": "execute_result"
    }
   ],
   "source": [
    "td = train_data.groupby(['fl_high']).size().reset_index()\n",
    "td['Percentage'] = 100 * td[0]  / td[0].sum()\n",
    "print('balance del target en Train')\n",
    "td"
   ]
  },
  {
   "cell_type": "code",
   "execution_count": 104,
   "id": "410d846f-2b39-4fbc-96ca-76705213b7ab",
   "metadata": {},
   "outputs": [
    {
     "name": "stdout",
     "output_type": "stream",
     "text": [
      "balance del target en Test\n"
     ]
    },
    {
     "data": {
      "text/html": [
       "<div>\n",
       "<style scoped>\n",
       "    .dataframe tbody tr th:only-of-type {\n",
       "        vertical-align: middle;\n",
       "    }\n",
       "\n",
       "    .dataframe tbody tr th {\n",
       "        vertical-align: top;\n",
       "    }\n",
       "\n",
       "    .dataframe thead th {\n",
       "        text-align: right;\n",
       "    }\n",
       "</style>\n",
       "<table border=\"1\" class=\"dataframe\">\n",
       "  <thead>\n",
       "    <tr style=\"text-align: right;\">\n",
       "      <th></th>\n",
       "      <th>fl_high</th>\n",
       "      <th>0</th>\n",
       "      <th>Percentage</th>\n",
       "    </tr>\n",
       "  </thead>\n",
       "  <tbody>\n",
       "    <tr>\n",
       "      <th>0</th>\n",
       "      <td>0</td>\n",
       "      <td>3016823</td>\n",
       "      <td>50.819408</td>\n",
       "    </tr>\n",
       "    <tr>\n",
       "      <th>1</th>\n",
       "      <td>1</td>\n",
       "      <td>2919537</td>\n",
       "      <td>49.180592</td>\n",
       "    </tr>\n",
       "  </tbody>\n",
       "</table>\n",
       "</div>"
      ],
      "text/plain": [
       "   fl_high        0  Percentage\n",
       "0        0  3016823   50.819408\n",
       "1        1  2919537   49.180592"
      ]
     },
     "execution_count": 104,
     "metadata": {},
     "output_type": "execute_result"
    }
   ],
   "source": [
    "td = test_data.groupby(['fl_high']).size().reset_index()\n",
    "td['Percentage'] = 100 * td[0]  / td[0].sum()\n",
    "print('balance del target en Test')\n",
    "td"
   ]
  },
  {
   "cell_type": "markdown",
   "id": "a2738672-7981-4c5d-87ad-b89cbc109c51",
   "metadata": {},
   "source": [
    "### Prepare Model Data\n",
    "- Dividimos las features del target en train y test."
   ]
  },
  {
   "cell_type": "code",
   "execution_count": 8,
   "id": "bfc7361d-ecb2-4c1a-a83f-3bcc8baac70c",
   "metadata": {},
   "outputs": [],
   "source": [
    "target = 'fl_high'\n",
    "X_train = train_data.drop(columns=[target], axis = 1)\n",
    "y_train = train_data[target].values\n",
    "X_test = test_data.drop(columns=[target], axis = 1)\n",
    "y_test= test_data[target].values"
   ]
  },
  {
   "cell_type": "code",
   "execution_count": 9,
   "id": "cf7d81f5-1b2a-49b4-af03-b00537387c39",
   "metadata": {},
   "outputs": [
    {
     "data": {
      "text/html": [
       "<div>\n",
       "<style scoped>\n",
       "    .dataframe tbody tr th:only-of-type {\n",
       "        vertical-align: middle;\n",
       "    }\n",
       "\n",
       "    .dataframe tbody tr th {\n",
       "        vertical-align: top;\n",
       "    }\n",
       "\n",
       "    .dataframe thead th {\n",
       "        text-align: right;\n",
       "    }\n",
       "</style>\n",
       "<table border=\"1\" class=\"dataframe\">\n",
       "  <thead>\n",
       "    <tr style=\"text-align: right;\">\n",
       "      <th></th>\n",
       "      <th></th>\n",
       "      <th>lag_rating</th>\n",
       "      <th>mov_avg_rating</th>\n",
       "      <th>movies_views</th>\n",
       "      <th>avg_user_rating</th>\n",
       "      <th>std_user_rating</th>\n",
       "      <th>median_user_rating</th>\n",
       "      <th>antiguedad</th>\n",
       "      <th>year</th>\n",
       "      <th>Action</th>\n",
       "      <th>Adventure</th>\n",
       "      <th>...</th>\n",
       "      <th>Mystery</th>\n",
       "      <th>Romance</th>\n",
       "      <th>Sci-Fi</th>\n",
       "      <th>Thriller</th>\n",
       "      <th>War</th>\n",
       "      <th>Western</th>\n",
       "      <th>movies_pop</th>\n",
       "      <th>avg_movie_rating</th>\n",
       "      <th>std_movie_rating</th>\n",
       "      <th>median_movie_rating</th>\n",
       "    </tr>\n",
       "    <tr>\n",
       "      <th>userId</th>\n",
       "      <th>movieId</th>\n",
       "      <th></th>\n",
       "      <th></th>\n",
       "      <th></th>\n",
       "      <th></th>\n",
       "      <th></th>\n",
       "      <th></th>\n",
       "      <th></th>\n",
       "      <th></th>\n",
       "      <th></th>\n",
       "      <th></th>\n",
       "      <th></th>\n",
       "      <th></th>\n",
       "      <th></th>\n",
       "      <th></th>\n",
       "      <th></th>\n",
       "      <th></th>\n",
       "      <th></th>\n",
       "      <th></th>\n",
       "      <th></th>\n",
       "      <th></th>\n",
       "      <th></th>\n",
       "    </tr>\n",
       "  </thead>\n",
       "  <tbody>\n",
       "    <tr>\n",
       "      <th rowspan=\"5\" valign=\"top\">1</th>\n",
       "      <th>2</th>\n",
       "      <td>4.0</td>\n",
       "      <td>3.7</td>\n",
       "      <td>175</td>\n",
       "      <td>3.742857</td>\n",
       "      <td>0.382284</td>\n",
       "      <td>4.0</td>\n",
       "      <td>204</td>\n",
       "      <td>1995</td>\n",
       "      <td>0</td>\n",
       "      <td>1</td>\n",
       "      <td>...</td>\n",
       "      <td>0</td>\n",
       "      <td>0</td>\n",
       "      <td>0</td>\n",
       "      <td>0</td>\n",
       "      <td>0</td>\n",
       "      <td>0</td>\n",
       "      <td>17276.0</td>\n",
       "      <td>3.233329</td>\n",
       "      <td>0.960672</td>\n",
       "      <td>3.0</td>\n",
       "    </tr>\n",
       "    <tr>\n",
       "      <th>29</th>\n",
       "      <td>3.5</td>\n",
       "      <td>3.7</td>\n",
       "      <td>175</td>\n",
       "      <td>3.742857</td>\n",
       "      <td>0.382284</td>\n",
       "      <td>4.0</td>\n",
       "      <td>204</td>\n",
       "      <td>1995</td>\n",
       "      <td>0</td>\n",
       "      <td>1</td>\n",
       "      <td>...</td>\n",
       "      <td>1</td>\n",
       "      <td>0</td>\n",
       "      <td>1</td>\n",
       "      <td>0</td>\n",
       "      <td>0</td>\n",
       "      <td>0</td>\n",
       "      <td>6241.0</td>\n",
       "      <td>3.982214</td>\n",
       "      <td>0.981849</td>\n",
       "      <td>4.0</td>\n",
       "    </tr>\n",
       "    <tr>\n",
       "      <th>32</th>\n",
       "      <td>3.5</td>\n",
       "      <td>3.7</td>\n",
       "      <td>175</td>\n",
       "      <td>3.742857</td>\n",
       "      <td>0.382284</td>\n",
       "      <td>4.0</td>\n",
       "      <td>204</td>\n",
       "      <td>1995</td>\n",
       "      <td>0</td>\n",
       "      <td>0</td>\n",
       "      <td>...</td>\n",
       "      <td>1</td>\n",
       "      <td>0</td>\n",
       "      <td>1</td>\n",
       "      <td>1</td>\n",
       "      <td>0</td>\n",
       "      <td>0</td>\n",
       "      <td>34883.0</td>\n",
       "      <td>3.874394</td>\n",
       "      <td>0.891318</td>\n",
       "      <td>4.0</td>\n",
       "    </tr>\n",
       "    <tr>\n",
       "      <th>47</th>\n",
       "      <td>4.0</td>\n",
       "      <td>3.9</td>\n",
       "      <td>175</td>\n",
       "      <td>3.742857</td>\n",
       "      <td>0.382284</td>\n",
       "      <td>4.0</td>\n",
       "      <td>204</td>\n",
       "      <td>1995</td>\n",
       "      <td>0</td>\n",
       "      <td>0</td>\n",
       "      <td>...</td>\n",
       "      <td>1</td>\n",
       "      <td>0</td>\n",
       "      <td>0</td>\n",
       "      <td>1</td>\n",
       "      <td>0</td>\n",
       "      <td>0</td>\n",
       "      <td>31690.0</td>\n",
       "      <td>4.021205</td>\n",
       "      <td>0.911578</td>\n",
       "      <td>4.0</td>\n",
       "    </tr>\n",
       "    <tr>\n",
       "      <th>50</th>\n",
       "      <td>3.0</td>\n",
       "      <td>3.4</td>\n",
       "      <td>175</td>\n",
       "      <td>3.742857</td>\n",
       "      <td>0.382284</td>\n",
       "      <td>4.0</td>\n",
       "      <td>204</td>\n",
       "      <td>1995</td>\n",
       "      <td>0</td>\n",
       "      <td>0</td>\n",
       "      <td>...</td>\n",
       "      <td>1</td>\n",
       "      <td>0</td>\n",
       "      <td>0</td>\n",
       "      <td>1</td>\n",
       "      <td>0</td>\n",
       "      <td>0</td>\n",
       "      <td>33907.0</td>\n",
       "      <td>4.367476</td>\n",
       "      <td>0.769318</td>\n",
       "      <td>4.5</td>\n",
       "    </tr>\n",
       "  </tbody>\n",
       "</table>\n",
       "<p>5 rows × 31 columns</p>\n",
       "</div>"
      ],
      "text/plain": [
       "                lag_rating  mov_avg_rating  movies_views  avg_user_rating  \\\n",
       "userId movieId                                                              \n",
       "1      2               4.0             3.7           175         3.742857   \n",
       "       29              3.5             3.7           175         3.742857   \n",
       "       32              3.5             3.7           175         3.742857   \n",
       "       47              4.0             3.9           175         3.742857   \n",
       "       50              3.0             3.4           175         3.742857   \n",
       "\n",
       "                std_user_rating  median_user_rating  antiguedad  year  Action  \\\n",
       "userId movieId                                                                  \n",
       "1      2               0.382284                 4.0         204  1995       0   \n",
       "       29              0.382284                 4.0         204  1995       0   \n",
       "       32              0.382284                 4.0         204  1995       0   \n",
       "       47              0.382284                 4.0         204  1995       0   \n",
       "       50              0.382284                 4.0         204  1995       0   \n",
       "\n",
       "                Adventure  ...  Mystery  Romance  Sci-Fi  Thriller  War  \\\n",
       "userId movieId             ...                                            \n",
       "1      2                1  ...        0        0       0         0    0   \n",
       "       29               1  ...        1        0       1         0    0   \n",
       "       32               0  ...        1        0       1         1    0   \n",
       "       47               0  ...        1        0       0         1    0   \n",
       "       50               0  ...        1        0       0         1    0   \n",
       "\n",
       "                Western  movies_pop  avg_movie_rating  std_movie_rating  \\\n",
       "userId movieId                                                            \n",
       "1      2              0     17276.0          3.233329          0.960672   \n",
       "       29             0      6241.0          3.982214          0.981849   \n",
       "       32             0     34883.0          3.874394          0.891318   \n",
       "       47             0     31690.0          4.021205          0.911578   \n",
       "       50             0     33907.0          4.367476          0.769318   \n",
       "\n",
       "                median_movie_rating  \n",
       "userId movieId                       \n",
       "1      2                        3.0  \n",
       "       29                       4.0  \n",
       "       32                       4.0  \n",
       "       47                       4.0  \n",
       "       50                       4.5  \n",
       "\n",
       "[5 rows x 31 columns]"
      ]
     },
     "execution_count": 9,
     "metadata": {},
     "output_type": "execute_result"
    }
   ],
   "source": [
    "X_train.head()"
   ]
  },
  {
   "cell_type": "code",
   "execution_count": 10,
   "id": "8c7200cc-d343-43fa-9104-8b88b8df9f60",
   "metadata": {},
   "outputs": [],
   "source": [
    "cat_cols = X_train.select_dtypes(exclude=\"number\").columns\n",
    "num_cols = X_train.select_dtypes(include=\"number\").columns"
   ]
  },
  {
   "cell_type": "markdown",
   "id": "bc1b7f6e-71a4-4fb2-aa53-075f11307b7b",
   "metadata": {
    "tags": []
   },
   "source": [
    "### Pipeline\n",
    "- Si bien el algoritmo seleccionado permite trabajar con datos categoricos y no ve afectado su rendmiento al no normalizar los datos. A fines del challenge genero un pipeline para mostrar la funcionalidad y ademas porque considero una buena practica preparar los datos para otros modelos que requieran standarizado y no permitan variables categoricas."
   ]
  },
  {
   "cell_type": "code",
   "execution_count": 44,
   "id": "984329d6-f33d-444f-ae47-946adde5139e",
   "metadata": {},
   "outputs": [],
   "source": [
    "categorical_pipeline = Pipeline(\n",
    "    steps=[\n",
    "        ('Target encoding', TargetEncoder())\n",
    "    ]\n",
    ")\n",
    "\n",
    "numeric_pipeline = Pipeline(\n",
    "    steps=[#(\"impute\", SimpleImputer(strategy=\"mean\")), \n",
    "           (\"scale\", StandardScaler())]\n",
    ")\n",
    "\n",
    "full_processor = ColumnTransformer(\n",
    "    transformers=[\n",
    "        (\"numeric\", numeric_pipeline, num_cols),\n",
    "        (\"categorical\", categorical_pipeline, cat_cols),\n",
    "    ]\n",
    ")"
   ]
  },
  {
   "cell_type": "code",
   "execution_count": 53,
   "id": "14b0a761-90ce-438b-b3e3-f6d9d440411d",
   "metadata": {},
   "outputs": [],
   "source": [
    "X_train_proc = full_processor.fit_transform(X_train, y_train)\n",
    "X_test_proc = full_processor.transform(X_test)"
   ]
  },
  {
   "cell_type": "markdown",
   "id": "dabdd3c9-1c5d-44fe-b224-c370300c7409",
   "metadata": {
    "tags": []
   },
   "source": [
    "### LightGBM\n",
    "- Utilizo el modelo basado en el aumento del gradiente que tiene una gran velocidad de entrenamiento considerando el volumen del dataset de Movielens. Basa su crecimiento de árboles en forma de hojas en vez de niveles, es lo hace rapido pero logrando arboles de alta complejidad, sin embargo corremos el riesgo de overfitting el cual se prevee ajustando algunos de sus hipeparámetros.\n",
    "\n",
    "\n",
    "https://lightgbm.readthedocs.io\n",
    "\n",
    "- Genero un Kfold Cross-validation sobre el train data. A efectos del challenge realice una selección manual de hiperparámetro.\n",
    "    * folds: 5\n",
    "    * max_depth: 6\n",
    "    * learning_rate: 0.05\n",
    "    * early_stopping: 300\n",
    "    * subsample: 0.8\n",
    "    * colsample_bytree: 0.6\n",
    "    * max_bins: 500\n",
    "    * L2 to regularization\n",
    "\n",
    "\n",
    "- En situaciones de producción recomendaría realizar un tuning de hiperparámetros con una optimización Bayesiana para encontrar el best model para optimizar la métrica de evaluación."
   ]
  },
  {
   "cell_type": "code",
   "execution_count": 207,
   "id": "c2051c00-7325-4493-af8f-c2d081320b79",
   "metadata": {},
   "outputs": [
    {
     "name": "stdout",
     "output_type": "stream",
     "text": [
      "Fold 1 / 5\n",
      "Training until validation scores don't improve for 300 rounds\n",
      "[100]\tvalid's auc: 0.80122\n",
      "[200]\tvalid's auc: 0.803237\n",
      "[300]\tvalid's auc: 0.803991\n",
      "Did not meet early stopping. Best iteration is:\n",
      "[300]\tvalid's auc: 0.803991\n",
      "Fold 2 / 5\n",
      "Training until validation scores don't improve for 300 rounds\n",
      "[100]\tvalid's auc: 0.79908\n",
      "[200]\tvalid's auc: 0.801073\n",
      "[300]\tvalid's auc: 0.801807\n",
      "Did not meet early stopping. Best iteration is:\n",
      "[300]\tvalid's auc: 0.801807\n",
      "Fold 3 / 5\n",
      "Training until validation scores don't improve for 300 rounds\n",
      "[100]\tvalid's auc: 0.801075\n",
      "[200]\tvalid's auc: 0.803027\n",
      "[300]\tvalid's auc: 0.80377\n",
      "Did not meet early stopping. Best iteration is:\n",
      "[300]\tvalid's auc: 0.80377\n",
      "Fold 4 / 5\n",
      "Training until validation scores don't improve for 300 rounds\n",
      "[100]\tvalid's auc: 0.798805\n",
      "[200]\tvalid's auc: 0.800839\n",
      "[300]\tvalid's auc: 0.801634\n",
      "Did not meet early stopping. Best iteration is:\n",
      "[300]\tvalid's auc: 0.801634\n",
      "Fold 5 / 5\n",
      "Training until validation scores don't improve for 300 rounds\n",
      "[100]\tvalid's auc: 0.799269\n",
      "[200]\tvalid's auc: 0.801241\n",
      "[300]\tvalid's auc: 0.802011\n",
      "Did not meet early stopping. Best iteration is:\n",
      "[300]\tvalid's auc: 0.802011\n",
      "avg_val_score: 0.802643\n"
     ]
    }
   ],
   "source": [
    "from sklearn.model_selection import StratifiedKFold\n",
    "\n",
    "n_folds = 5\n",
    "\n",
    "params = {\n",
    "         'task': 'train',\n",
    "         'boosting_type': 'gbdt',\n",
    "         'objective':'binary',\n",
    "         'metric':'auc',\n",
    "         'num_leaves': 31, \n",
    "         'max_depth': 6,  \n",
    "         'learning_rate':0.05 , \n",
    "         'objective': 'binary',  \n",
    "         'subsample':0.8, \n",
    "         'colsample_bytree':0.6,\n",
    "         'early_stopping_round':100,\n",
    "         'max_bin': 500,\n",
    "         'lambda_l2': 0.1,\n",
    "         'verbosity':'-1'\n",
    "        }\n",
    "\n",
    "skfold = StratifiedKFold(n_splits=n_folds)\n",
    "\n",
    "val_scores = []\n",
    "for fold_id, (train_ids, valid_ids) in enumerate(skfold.split(X_train_proc, y_train)):\n",
    "    print(\"Fold %d / %d\" % (fold_id + 1, n_folds))\n",
    "\n",
    "    lgb_train = lgb.Dataset(X_train_proc[train_ids, :], y_train[train_ids],feature_name=list(X_train.columns))\n",
    "    lgb_valid  = lgb.Dataset(X_train_proc[valid_ids, :], y_train[valid_ids],feature_name=list(X_train.columns))\n",
    "    \n",
    "    res = {}\n",
    "    \n",
    "    gbm = lgb.train(params, lgb_train, num_boost_round=300, \n",
    "                    valid_sets=[lgb_valid], valid_names=['valid'],\n",
    "                    evals_result=res, verbose_eval=100)\n",
    "    \n",
    "    gbm.save_model('model/lightgbm_model_%d.txt' % fold_id)\n",
    "    \n",
    "    val_scores.append(res['valid']['auc'][-1])\n",
    "print(\"avg_val_score: %4f\" % (np.mean(val_scores)))"
   ]
  },
  {
   "cell_type": "markdown",
   "id": "10bd2d71-576d-453b-982e-9872beac9d4b",
   "metadata": {
    "tags": []
   },
   "source": [
    "### Evaluation\n",
    "- En esta instancia no me detuve mucho tiempo creo que hay posibilidad de mejora, trabajando en los features, realizando ajustes de hiperparametros, probando otras métricas de optimización y otros algoritmos para aumentar la performance y reducir los riesgo de overfitting. De todas maneras como primer acercamiento al problema es un buen punto de partida."
   ]
  },
  {
   "cell_type": "code",
   "execution_count": 208,
   "id": "5fdcc78d-a955-4535-abd3-9c0fab2e75b7",
   "metadata": {},
   "outputs": [],
   "source": [
    "pred = np.zeros((len(y_test)))\n",
    "for fold_id in range(n_folds):\n",
    "    gbm_a = lgb.Booster(model_file='model/lightgbm_model_%d.txt' % fold_id)\n",
    "    current_pred = gbm_a.predict(X_test_proc)\n",
    "    pred += current_pred\n",
    "pred /= n_folds\n",
    "y_pred = [round(x) for x in pred]"
   ]
  },
  {
   "cell_type": "code",
   "execution_count": 209,
   "id": "1646bda8-91e9-48d9-b255-4e0cd7cad43f",
   "metadata": {},
   "outputs": [
    {
     "name": "stdout",
     "output_type": "stream",
     "text": [
      "LightGBM Model accuracy score: 0.6902\n"
     ]
    }
   ],
   "source": [
    "print('LightGBM Model accuracy score: {0:0.4f}'.format(accuracy_score(y_test, y_pred)))"
   ]
  },
  {
   "cell_type": "markdown",
   "id": "9074f4ac-2e32-4677-ab3d-fae1291843df",
   "metadata": {},
   "source": [
    "### Curva ROC"
   ]
  },
  {
   "cell_type": "code",
   "execution_count": 210,
   "id": "59fdaee5-cb5b-4c8f-b719-df1fe71855d4",
   "metadata": {},
   "outputs": [
    {
     "name": "stdout",
     "output_type": "stream",
     "text": [
      "LightGBM ROC-AUC score: 0.69\n"
     ]
    }
   ],
   "source": [
    "print('LightGBM ROC-AUC score: {0:0.2f}'.format(auc))"
   ]
  },
  {
   "cell_type": "code",
   "execution_count": 211,
   "id": "e827bc36-032e-46c9-830f-506f117fe79c",
   "metadata": {},
   "outputs": [
    {
     "data": {
      "image/png": "[encoded data removed]",
      "text/plain": [
       "<Figure size 432x288 with 1 Axes>"
      ]
     },
     "metadata": {
      "needs_background": "light"
     },
     "output_type": "display_data"
    }
   ],
   "source": [
    "fpr, tpr, thresholds = roc_curve(y_test, [item for item in pred])\n",
    "auc = roc_auc_score(y_test, y_pred)\n",
    "pyplot.plot(fpr, tpr, linestyle='--', label='LGBM')\n",
    "ns_probs = [0 for _ in range(len(y_test))]\n",
    "ns_fpr, ns_tpr, _ = roc_curve(y_test, ns_probs)\n",
    "pyplot.plot(ns_fpr, ns_tpr, linestyle='--', label='No Skill')\n",
    "# axis labels\n",
    "pyplot.xlabel('False Positive Rate')\n",
    "pyplot.ylabel('True Positive Rate')\n",
    "# show the legend\n",
    "pyplot.legend()\n",
    "# show the plot\n",
    "pyplot.show()"
   ]
  },
  {
   "cell_type": "markdown",
   "id": "589e050f-d587-44f6-8c50-2223cdc639f7",
   "metadata": {},
   "source": [
    "### Precision and Recall\n",
    "- Para explicarlo con palabras propias interpretando los resultados\n",
    "    * Precision: Indica que acertamos el 68% de los que se predicen como usuarios que clasificaran Alta la película.\n",
    "    * Recall: Determina que detectamos el 71% de las clasificaciones altas que realizan los usuarios a las películas.\n",
    "    * Accuracy: El 69% de las clasificaciones altas o bajas son predichas correctamente"
   ]
  },
  {
   "cell_type": "code",
   "execution_count": 212,
   "id": "f40d724b-7a83-4477-b6f5-edc69be03d3e",
   "metadata": {},
   "outputs": [
    {
     "name": "stdout",
     "output_type": "stream",
     "text": [
      "              precision    recall  f1-score   support\n",
      "\n",
      "           0       0.70      0.69      0.69   3016823\n",
      "           1       0.68      0.70      0.69   2919537\n",
      "\n",
      "    accuracy                           0.69   5936360\n",
      "   macro avg       0.69      0.69      0.69   5936360\n",
      "weighted avg       0.69      0.69      0.69   5936360\n",
      "\n"
     ]
    }
   ],
   "source": [
    "\n",
    "print(classification_report(y_test, y_pred))"
   ]
  },
  {
   "cell_type": "code",
   "execution_count": 213,
   "id": "2039b6d1-e45f-434b-ba6b-6623484f2ece",
   "metadata": {},
   "outputs": [
    {
     "data": {
      "text/plain": [
       "[<matplotlib.lines.Line2D at 0x7fe137c60160>]"
      ]
     },
     "execution_count": 213,
     "metadata": {},
     "output_type": "execute_result"
    },
    {
     "data": {
      "image/png": "[encoded data removed]",
      "text/plain": [
       "<Figure size 432x288 with 1 Axes>"
      ]
     },
     "metadata": {
      "needs_background": "light"
     },
     "output_type": "display_data"
    }
   ],
   "source": [
    "from sklearn.metrics import precision_recall_curve\n",
    "lr_precision, lr_recall, _ = precision_recall_curve(y_test, pred)\n",
    "# plot the precision-recall curves\n",
    "no_skill = len(y_test[y_test==1]) / len(y_test)\n",
    "pyplot.plot([0, 1], [no_skill, no_skill], linestyle='--', label='No Skill')\n",
    "pyplot.plot(lr_recall, lr_precision, marker='.', label='Logistic')"
   ]
  },
  {
   "cell_type": "markdown",
   "id": "3a67def8-b9e9-4053-bc60-d6c6336ebe4a",
   "metadata": {},
   "source": [
    "### Matriz de Confusion\n",
    "\n",
    "    - Se observa un 69% de accuracy y un 16% de falsos positivos"
   ]
  },
  {
   "cell_type": "code",
   "execution_count": 214,
   "id": "5cd27e2b-ca65-4555-88a3-f04f7a29c7b9",
   "metadata": {},
   "outputs": [
    {
     "data": {
      "text/plain": [
       "<AxesSubplot:>"
      ]
     },
     "execution_count": 214,
     "metadata": {},
     "output_type": "execute_result"
    },
    {
     "data": {
      "image/png": "[encoded data removed]",
      "text/plain": [
       "<Figure size 432x288 with 2 Axes>"
      ]
     },
     "metadata": {
      "needs_background": "light"
     },
     "output_type": "display_data"
    }
   ],
   "source": [
    "cm = confusion_matrix(y_test, y_pred)\n",
    "cm_matrix = pd.DataFrame(data=cm, columns=['Actual Positive:1', 'Actual Negative:0'], \n",
    "                                 index=['Predict Positive:1', 'Predict Negative:0'])\n",
    "\n",
    "group_names = ['True Neg','False Pos','False Neg','True Pos']\n",
    "group_percentages = ['{0:.2%}'.format(value) for value in cm.flatten()/np.sum(cm)]\n",
    "labels = [f'{v1}\\n{v2}' for v1, v2 in\n",
    "          zip(group_names,group_percentages)]\n",
    "labels = np.asarray(labels).reshape(2,2)\n",
    "sns.heatmap(cm, annot=labels, fmt='', cmap='Blues')"
   ]
  },
  {
   "cell_type": "markdown",
   "id": "58a75547-70cc-4009-93b2-d59b518e24d7",
   "metadata": {
    "tags": []
   },
   "source": [
    "### Feature Importance\n",
    "- El algoritmo no solo tiene soluciones propias para determinal la importancia de variables, sino que ademas nos permite profundizar y aplicar Shap-values para analizar el impacto de las variables.\n",
    "\n",
    "    - Las variables generadas en torno al rating de las peliculas y de los usuario generada desde el train set, fueron las variables con mayor importancia predictiva. \n",
    "    - Dentro del top five se encuentra el promedio movil del usuario de acuerdo a la fecha del rating y cuantas pelicas puntuó el usuario.\n",
    "    - Destacamos dentro del top 10, el rating de la película anterior del usuario, cuantas pelicas puntuó , la popularidad de la pelicula y el año del film.\n",
    "    - El One-Hot Encoder del genero no genero gran relevancia, pero si el año de la película.\n",
    "    - Esto demuestra que tenemos oportunidad para explorar como incluimos el genero dentro del dataset."
   ]
  },
  {
   "cell_type": "code",
   "execution_count": 215,
   "id": "c52c1416-10ce-48ac-9e25-df7eb3531a2a",
   "metadata": {
    "tags": []
   },
   "outputs": [
    {
     "data": {
      "text/plain": [
       "<AxesSubplot:title={'center':'Feature importance'}, xlabel='Feature importance', ylabel='Features'>"
      ]
     },
     "execution_count": 215,
     "metadata": {},
     "output_type": "execute_result"
    },
    {
     "data": {
      "image/png": "[encoded data removed]",
      "text/plain": [
       "<Figure size 576x432 with 1 Axes>"
      ]
     },
     "metadata": {
      "needs_background": "light"
     },
     "output_type": "display_data"
    }
   ],
   "source": [
    "lgb.plot_importance(gbm, figsize=(8,6))"
   ]
  },
  {
   "cell_type": "markdown",
   "id": "cede6476-7a4e-4e6d-a657-008a105cd987",
   "metadata": {},
   "source": [
    "#### SHAP values\n",
    "    - Podemos observar como contribuyen a la predicción y si impacta mas en los positivos o negativos. Por ejemplo el promedio del rating de la pelicula parece contribuir igualmente para ambos valores del targen biinario, en cambio el promedio movil impacta en mayor medida en los positivos.\n",
    "    \n",
    "    - Aclaracion Importante: Corri shape values con una muestra de 5000 del test, ya que su procesamiento es elevado y demora tiempo computacional."
   ]
  },
  {
   "cell_type": "code",
   "execution_count": 216,
   "id": "219cb67a-e9f3-4737-a423-45dc65fc0581",
   "metadata": {},
   "outputs": [],
   "source": [
    "pred_shape = np.zeros((5000,32))\n",
    "for fold_id in range(n_folds):\n",
    "    gbm_a = lgb.Booster(model_file='model/lightgbm_model_%d.txt' % fold_id)\n",
    "    current_pred = gbm_a.predict(X_test_proc[:5000], pred_contrib=True)\n",
    "    pred_shape += current_pred\n",
    "pred_shape /= n_folds"
   ]
  },
  {
   "cell_type": "code",
   "execution_count": 217,
   "id": "f3412b6a-9ced-4747-b938-3738f534f5fd",
   "metadata": {},
   "outputs": [
    {
     "data": {
      "image/png": "[encoded data removed]",
      "text/plain": [
       "<Figure size 576x684 with 2 Axes>"
      ]
     },
     "metadata": {
      "needs_background": "light"
     },
     "output_type": "display_data"
    }
   ],
   "source": [
    "#explainer = shap.TreeExplainer(gbm)\n",
    "#shap_values = explainer.shap_values(X_test.iloc[:50000])\n",
    "shap.summary_plot(pred_shape[:,:-1], X_test.iloc[:5000])"
   ]
  },
  {
   "cell_type": "markdown",
   "id": "4a615d9d-86fb-4240-9e8b-14eb474e31d6",
   "metadata": {},
   "source": [
    "* Podemos observar por variable generada, en este caso el promedio movil del rating, como a medida que incrementa como aumenta su impacto en el target positivo. Es decir los clientes con un promedio movil alto hay altas probabilidades que puntue alto a la pelicula."
   ]
  },
  {
   "cell_type": "code",
   "execution_count": 218,
   "id": "c84a1c9a-c2c9-45a1-a553-1558ee95e73b",
   "metadata": {},
   "outputs": [
    {
     "data": {
      "image/png": "[encoded data removed]",
      "text/plain": [
       "<Figure size 540x360 with 2 Axes>"
      ]
     },
     "metadata": {
      "needs_background": "light"
     },
     "output_type": "display_data"
    }
   ],
   "source": [
    "shap.dependence_plot(\"mov_avg_rating\", pred_shape[:,:-1], X_test.iloc[:5000])"
   ]
  },
  {
   "cell_type": "markdown",
   "id": "5042cd87-b7a9-4f29-a904-ba6fca47ad6c",
   "metadata": {},
   "source": [
    "- Por el contrario parece que la variable del rating anterior, si un cliente puntua bajo una pelicula es mas probable que la proxima pelicula sea puntada bajo."
   ]
  },
  {
   "cell_type": "code",
   "execution_count": 219,
   "id": "64e77166-e2ea-4a82-baa0-7221153b5013",
   "metadata": {},
   "outputs": [
    {
     "data": {
      "image/png": "[encoded data removed]",
      "text/plain": [
       "<Figure size 540x360 with 2 Axes>"
      ]
     },
     "metadata": {
      "needs_background": "light"
     },
     "output_type": "display_data"
    }
   ],
   "source": [
    "shap.dependence_plot(\"lag_rating\", pred_shape[:,:-1], X_test.iloc[:5000])"
   ]
  },
  {
   "cell_type": "markdown",
   "id": "a5134ba1-c38b-4b1d-b546-0b636a174b0a",
   "metadata": {},
   "source": [
    "### Conclusiones Finales\n",
    "\n",
    "- realmente me parecio un desafio interesante, parece simple pero al momento de pensarlo hay varias formas de encararlo. Me hubiese gustado generar mas features las que mencione en la notebook anterior, ya que veo que tiene potencial predictivo de acuerdo a las variables que observo en el feature importance.\n",
    "- Obviamente hay mas posibilidades de mejora en la predicción del modelo, empezando por explorar otros algoritmos, selección de variables, realizar ajuste de hiperparámetros.\n",
    "- Gracias por la posibilidad y espero que haber sido claro con la explicación, la metodología seleccionada y el orden del código."
   ]
  },
  {
   "cell_type": "code",
   "execution_count": null,
   "id": "7d429886-bb6c-4783-8970-0414415f768b",
   "metadata": {},
   "outputs": [],
   "source": []
  }
 ],
 "metadata": {
  "kernelspec": {
   "display_name": "Python 3 (ipykernel)",
   "language": "python",
   "name": "python3"
  },
  "language_info": {
   "codemirror_mode": {
    "name": "ipython",
    "version": 3
   },
   "file_extension": ".py",
   "mimetype": "text/x-python",
   "name": "python",
   "nbconvert_exporter": "python",
   "pygments_lexer": "ipython3",
   "version": "3.9.7"
  }
 },
 "nbformat": 4,
 "nbformat_minor": 5
}
