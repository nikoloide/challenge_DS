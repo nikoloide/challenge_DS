{
 "cells": [
  {
   "cell_type": "code",
   "execution_count": 1,
   "id": "d4cd5cc2-4a14-4861-a6cb-77dbd7e8376c",
   "metadata": {},
   "outputs": [],
   "source": [
    "_ = !pip install opendatasets"
   ]
  },
  {
   "cell_type": "code",
   "execution_count": 2,
   "id": "500ac4c9-febc-4bbd-98dd-921e052816a8",
   "metadata": {},
   "outputs": [],
   "source": [
    "import pandas as pd\n",
    "import numpy as np\n",
    "import opendatasets as od\n",
    "import glob\n",
    "import os\n",
    "import re"
   ]
  },
  {
   "cell_type": "markdown",
   "id": "23c17aa9-7c42-42f6-8e4d-c8315eeebbc0",
   "metadata": {},
   "source": [
    "### Import Dataset"
   ]
  },
  {
   "cell_type": "code",
   "execution_count": 3,
   "id": "76ac914b-484e-4e9f-a017-8f7308e1ac3d",
   "metadata": {},
   "outputs": [
    {
     "name": "stdout",
     "output_type": "stream",
     "text": [
      "Skipping, found downloaded files in \"./movielens-20m-dataset\" (use force=True to force download)\n"
     ]
    }
   ],
   "source": [
    "#Download datasets from Kaggle\n",
    "od.download(\"https://www.kaggle.com/grouplens/movielens-20m-dataset\")\n",
    "#24bf23baff0e58c26b0fbff70c0803c1"
   ]
  },
  {
   "cell_type": "code",
   "execution_count": 4,
   "id": "3e7434dd-4c48-40db-ab37-1f1e007ea1aa",
   "metadata": {},
   "outputs": [],
   "source": [
    "#Import data\n",
    "variables = locals()\n",
    "path = 'movielens-20m-dataset/'\n",
    "for file in os.listdir(path):\n",
    "    name = str(file.rsplit('.', 1)[0])\n",
    "    variables[\"df_{0}\".format(name)] = pd.read_csv(path + file)"
   ]
  },
  {
   "cell_type": "code",
   "execution_count": 5,
   "id": "5ac9ae3f-b62e-4701-bbd1-f1f9931980cd",
   "metadata": {},
   "outputs": [
    {
     "name": "stdout",
     "output_type": "stream",
     "text": [
      "Variable           Type         Data/Info\n",
      "-----------------------------------------\n",
      "df_genome_scores   DataFrame              movieId  tagId <...>1709768 rows x 3 columns]\n",
      "df_genome_tags     DataFrame          tagId           tag<...>\\n[1128 rows x 2 columns]\n",
      "df_link            DataFrame           movieId   imdbId  <...>n[27278 rows x 3 columns]\n",
      "df_movie           DataFrame           movieId           <...>n[27278 rows x 3 columns]\n",
      "df_rating          DataFrame              userId  movieId<...>0000263 rows x 4 columns]\n",
      "df_tag             DataFrame            userId  movieId  <...>[465564 rows x 4 columns]\n"
     ]
    }
   ],
   "source": [
    "%whos DataFrame"
   ]
  },
  {
   "cell_type": "code",
   "execution_count": 6,
   "id": "f7f88ba7-7b95-4aa4-9323-2bffa803351f",
   "metadata": {},
   "outputs": [
    {
     "data": {
      "text/plain": [
       "(20000263, 4)"
      ]
     },
     "execution_count": 6,
     "metadata": {},
     "output_type": "execute_result"
    }
   ],
   "source": [
    "df_rating.shape"
   ]
  },
  {
   "cell_type": "code",
   "execution_count": 7,
   "id": "9e452529-cee4-4734-a7ca-4d166218034e",
   "metadata": {},
   "outputs": [
    {
     "data": {
      "text/html": [
       "<div>\n",
       "<style scoped>\n",
       "    .dataframe tbody tr th:only-of-type {\n",
       "        vertical-align: middle;\n",
       "    }\n",
       "\n",
       "    .dataframe tbody tr th {\n",
       "        vertical-align: top;\n",
       "    }\n",
       "\n",
       "    .dataframe thead th {\n",
       "        text-align: right;\n",
       "    }\n",
       "</style>\n",
       "<table border=\"1\" class=\"dataframe\">\n",
       "  <thead>\n",
       "    <tr style=\"text-align: right;\">\n",
       "      <th></th>\n",
       "      <th>userId</th>\n",
       "      <th>movieId</th>\n",
       "      <th>rating</th>\n",
       "      <th>timestamp</th>\n",
       "    </tr>\n",
       "  </thead>\n",
       "  <tbody>\n",
       "    <tr>\n",
       "      <th>0</th>\n",
       "      <td>1</td>\n",
       "      <td>2</td>\n",
       "      <td>3.5</td>\n",
       "      <td>2005-04-02 23:53:47</td>\n",
       "    </tr>\n",
       "    <tr>\n",
       "      <th>1</th>\n",
       "      <td>1</td>\n",
       "      <td>29</td>\n",
       "      <td>3.5</td>\n",
       "      <td>2005-04-02 23:31:16</td>\n",
       "    </tr>\n",
       "    <tr>\n",
       "      <th>2</th>\n",
       "      <td>1</td>\n",
       "      <td>32</td>\n",
       "      <td>3.5</td>\n",
       "      <td>2005-04-02 23:33:39</td>\n",
       "    </tr>\n",
       "    <tr>\n",
       "      <th>3</th>\n",
       "      <td>1</td>\n",
       "      <td>47</td>\n",
       "      <td>3.5</td>\n",
       "      <td>2005-04-02 23:32:07</td>\n",
       "    </tr>\n",
       "    <tr>\n",
       "      <th>4</th>\n",
       "      <td>1</td>\n",
       "      <td>50</td>\n",
       "      <td>3.5</td>\n",
       "      <td>2005-04-02 23:29:40</td>\n",
       "    </tr>\n",
       "  </tbody>\n",
       "</table>\n",
       "</div>"
      ],
      "text/plain": [
       "   userId  movieId  rating            timestamp\n",
       "0       1        2     3.5  2005-04-02 23:53:47\n",
       "1       1       29     3.5  2005-04-02 23:31:16\n",
       "2       1       32     3.5  2005-04-02 23:33:39\n",
       "3       1       47     3.5  2005-04-02 23:32:07\n",
       "4       1       50     3.5  2005-04-02 23:29:40"
      ]
     },
     "execution_count": 7,
     "metadata": {},
     "output_type": "execute_result"
    }
   ],
   "source": [
    "df_rating.head()"
   ]
  },
  {
   "cell_type": "code",
   "execution_count": 8,
   "id": "c3891583-1cab-4f00-81b2-c82ad166d316",
   "metadata": {},
   "outputs": [
    {
     "data": {
      "text/plain": [
       "(27278, 3)"
      ]
     },
     "execution_count": 8,
     "metadata": {},
     "output_type": "execute_result"
    }
   ],
   "source": [
    "df_movie.shape"
   ]
  },
  {
   "cell_type": "code",
   "execution_count": 9,
   "id": "1be2d43d-a2ef-4bf3-9c54-f5954122ee07",
   "metadata": {},
   "outputs": [
    {
     "name": "stdout",
     "output_type": "stream",
     "text": [
      "Rating de 26744 films, de un total de 138493 usuarios.\n"
     ]
    }
   ],
   "source": [
    "print('Rating de', len(df_rating.movieId.unique()), 'films,', 'de un total de', len(df_rating.userId.unique()), 'usuarios.')"
   ]
  },
  {
   "cell_type": "markdown",
   "id": "2544dcf0-5cbe-479e-9763-b065e70f57d7",
   "metadata": {},
   "source": [
    "#### Create Target"
   ]
  },
  {
   "cell_type": "code",
   "execution_count": 10,
   "id": "a4780780-d478-4fc2-83a7-0cb587642cf1",
   "metadata": {},
   "outputs": [],
   "source": [
    "df_rating['fl_high'] = np.where(df_rating['rating'] >= 4, 1,0)"
   ]
  },
  {
   "cell_type": "markdown",
   "id": "d9830354-6df7-4eb9-8ce6-7e1ffbebbf48",
   "metadata": {},
   "source": [
    "#### Dataset Raitings"
   ]
  },
  {
   "cell_type": "markdown",
   "id": "da46c783-d5c5-4a8e-8db0-670855b7cfcc",
   "metadata": {},
   "source": [
    "- Rolling average rating"
   ]
  },
  {
   "cell_type": "code",
   "execution_count": 11,
   "id": "0008720f-b66c-41ec-b051-55a1aff18e50",
   "metadata": {},
   "outputs": [],
   "source": [
    "user_MA = df_rating[['userId','movieId','rating','timestamp']].sort_values(by='timestamp', ascending=True)\n",
    "user_MA['lag_rating'] = user_MA.groupby('userId')['rating'].shift(1)\n",
    "user_MA = user_MA.sort_values(by=['userId','timestamp'], ascending=True)\n",
    "user_MA['mov_avg_rating'] = user_MA.groupby('userId')['lag_rating'].transform(lambda x: x.rolling(5, 1).mean())\n",
    "user_MA['mov_avg_rating'] = user_MA['mov_avg_rating'].fillna(0)\n",
    "#user_MA.head()"
   ]
  },
  {
   "cell_type": "markdown",
   "id": "0cb35ab0-6dfd-43bd-a402-72a6c53365df",
   "metadata": {
    "tags": []
   },
   "source": [
    "#### Split Data\n",
    "- Realizo el split de train y test por fecha, distibuyendo 80/20 ya que considero que la variable tiempo es importante y una buena opción para evitar la fuga de datos."
   ]
  },
  {
   "cell_type": "markdown",
   "id": "39ee41f1-2436-4f7b-879e-3374498bcadd",
   "metadata": {},
   "source": [
    "- Fecha Rating"
   ]
  },
  {
   "cell_type": "code",
   "execution_count": 12,
   "id": "9d7eb57a-34a4-49d3-bb47-e5eedd0891c6",
   "metadata": {},
   "outputs": [],
   "source": [
    "## Para evitar la fuga de datos al generar variables realizo el split de train-val-test\n",
    "#de la ventana de tienpo de Ene-1995 a Mar-2015 verificamos que no hay entrada de datos durante 11 meses desde Feb-1995 a Dic-1995\n",
    "df_rating['date'] = pd.to_datetime(df_rating['timestamp'])"
   ]
  },
  {
   "cell_type": "code",
   "execution_count": 13,
   "id": "f102632d-54c4-4ec2-9028-04843e2a3e5a",
   "metadata": {},
   "outputs": [],
   "source": [
    "df_rating['yyyymm'] = df_rating['date'].dt.to_period('M')"
   ]
  },
  {
   "cell_type": "code",
   "execution_count": 14,
   "id": "c4f41892-f431-458a-857f-8812defaf6e3",
   "metadata": {},
   "outputs": [
    {
     "data": {
      "text/plain": [
       "242"
      ]
     },
     "execution_count": 14,
     "metadata": {},
     "output_type": "execute_result"
    }
   ],
   "source": [
    "end_date = df_rating['date'].max()\n",
    "start_date = df_rating['date'].min()\n",
    "(end_date.year - start_date.year) * 12 + (end_date.month - start_date.month)\n"
   ]
  },
  {
   "cell_type": "code",
   "execution_count": 15,
   "id": "b047ed55-f563-4885-804b-daf624ccb5ba",
   "metadata": {},
   "outputs": [],
   "source": [
    "user_MA = user_MA[['userId','movieId','lag_rating','mov_avg_rating']]\n",
    "df_rating_feat = df_rating.merge(user_MA, left_on = ['userId','movieId'], right_on=['userId','movieId'], how='left')"
   ]
  },
  {
   "cell_type": "code",
   "execution_count": 16,
   "id": "79bd51ee-8368-41bd-a94e-ddbe05f3afdb",
   "metadata": {},
   "outputs": [
    {
     "data": {
      "text/html": [
       "<div>\n",
       "<style scoped>\n",
       "    .dataframe tbody tr th:only-of-type {\n",
       "        vertical-align: middle;\n",
       "    }\n",
       "\n",
       "    .dataframe tbody tr th {\n",
       "        vertical-align: top;\n",
       "    }\n",
       "\n",
       "    .dataframe thead th {\n",
       "        text-align: right;\n",
       "    }\n",
       "</style>\n",
       "<table border=\"1\" class=\"dataframe\">\n",
       "  <thead>\n",
       "    <tr style=\"text-align: right;\">\n",
       "      <th></th>\n",
       "      <th>userId</th>\n",
       "      <th>movieId</th>\n",
       "      <th>rating</th>\n",
       "      <th>timestamp</th>\n",
       "      <th>fl_high</th>\n",
       "      <th>date</th>\n",
       "      <th>yyyymm</th>\n",
       "      <th>lag_rating</th>\n",
       "      <th>mov_avg_rating</th>\n",
       "    </tr>\n",
       "  </thead>\n",
       "  <tbody>\n",
       "    <tr>\n",
       "      <th>0</th>\n",
       "      <td>1</td>\n",
       "      <td>2</td>\n",
       "      <td>3.5</td>\n",
       "      <td>2005-04-02 23:53:47</td>\n",
       "      <td>0</td>\n",
       "      <td>2005-04-02 23:53:47</td>\n",
       "      <td>2005-04</td>\n",
       "      <td>4.0</td>\n",
       "      <td>3.7</td>\n",
       "    </tr>\n",
       "    <tr>\n",
       "      <th>1</th>\n",
       "      <td>1</td>\n",
       "      <td>29</td>\n",
       "      <td>3.5</td>\n",
       "      <td>2005-04-02 23:31:16</td>\n",
       "      <td>0</td>\n",
       "      <td>2005-04-02 23:31:16</td>\n",
       "      <td>2005-04</td>\n",
       "      <td>3.5</td>\n",
       "      <td>3.7</td>\n",
       "    </tr>\n",
       "    <tr>\n",
       "      <th>2</th>\n",
       "      <td>1</td>\n",
       "      <td>32</td>\n",
       "      <td>3.5</td>\n",
       "      <td>2005-04-02 23:33:39</td>\n",
       "      <td>0</td>\n",
       "      <td>2005-04-02 23:33:39</td>\n",
       "      <td>2005-04</td>\n",
       "      <td>3.5</td>\n",
       "      <td>3.7</td>\n",
       "    </tr>\n",
       "    <tr>\n",
       "      <th>3</th>\n",
       "      <td>1</td>\n",
       "      <td>47</td>\n",
       "      <td>3.5</td>\n",
       "      <td>2005-04-02 23:32:07</td>\n",
       "      <td>0</td>\n",
       "      <td>2005-04-02 23:32:07</td>\n",
       "      <td>2005-04</td>\n",
       "      <td>4.0</td>\n",
       "      <td>3.9</td>\n",
       "    </tr>\n",
       "    <tr>\n",
       "      <th>4</th>\n",
       "      <td>1</td>\n",
       "      <td>50</td>\n",
       "      <td>3.5</td>\n",
       "      <td>2005-04-02 23:29:40</td>\n",
       "      <td>0</td>\n",
       "      <td>2005-04-02 23:29:40</td>\n",
       "      <td>2005-04</td>\n",
       "      <td>3.0</td>\n",
       "      <td>3.4</td>\n",
       "    </tr>\n",
       "    <tr>\n",
       "      <th>...</th>\n",
       "      <td>...</td>\n",
       "      <td>...</td>\n",
       "      <td>...</td>\n",
       "      <td>...</td>\n",
       "      <td>...</td>\n",
       "      <td>...</td>\n",
       "      <td>...</td>\n",
       "      <td>...</td>\n",
       "      <td>...</td>\n",
       "    </tr>\n",
       "    <tr>\n",
       "      <th>170</th>\n",
       "      <td>1</td>\n",
       "      <td>8507</td>\n",
       "      <td>5.0</td>\n",
       "      <td>2004-09-10 03:13:47</td>\n",
       "      <td>1</td>\n",
       "      <td>2004-09-10 03:13:47</td>\n",
       "      <td>2004-09</td>\n",
       "      <td>3.5</td>\n",
       "      <td>3.6</td>\n",
       "    </tr>\n",
       "    <tr>\n",
       "      <th>171</th>\n",
       "      <td>1</td>\n",
       "      <td>8636</td>\n",
       "      <td>4.5</td>\n",
       "      <td>2005-04-02 23:44:53</td>\n",
       "      <td>1</td>\n",
       "      <td>2005-04-02 23:44:53</td>\n",
       "      <td>2005-04</td>\n",
       "      <td>3.5</td>\n",
       "      <td>3.8</td>\n",
       "    </tr>\n",
       "    <tr>\n",
       "      <th>172</th>\n",
       "      <td>1</td>\n",
       "      <td>8690</td>\n",
       "      <td>3.5</td>\n",
       "      <td>2005-04-02 23:33:15</td>\n",
       "      <td>0</td>\n",
       "      <td>2005-04-02 23:33:15</td>\n",
       "      <td>2005-04</td>\n",
       "      <td>4.0</td>\n",
       "      <td>3.8</td>\n",
       "    </tr>\n",
       "    <tr>\n",
       "      <th>173</th>\n",
       "      <td>1</td>\n",
       "      <td>8961</td>\n",
       "      <td>4.0</td>\n",
       "      <td>2005-04-02 23:47:09</td>\n",
       "      <td>1</td>\n",
       "      <td>2005-04-02 23:47:09</td>\n",
       "      <td>2005-04</td>\n",
       "      <td>3.5</td>\n",
       "      <td>3.5</td>\n",
       "    </tr>\n",
       "    <tr>\n",
       "      <th>174</th>\n",
       "      <td>1</td>\n",
       "      <td>31696</td>\n",
       "      <td>4.0</td>\n",
       "      <td>2005-04-02 23:49:08</td>\n",
       "      <td>1</td>\n",
       "      <td>2005-04-02 23:49:08</td>\n",
       "      <td>2005-04</td>\n",
       "      <td>4.0</td>\n",
       "      <td>4.0</td>\n",
       "    </tr>\n",
       "  </tbody>\n",
       "</table>\n",
       "<p>175 rows × 9 columns</p>\n",
       "</div>"
      ],
      "text/plain": [
       "     userId  movieId  rating            timestamp  fl_high  \\\n",
       "0         1        2     3.5  2005-04-02 23:53:47        0   \n",
       "1         1       29     3.5  2005-04-02 23:31:16        0   \n",
       "2         1       32     3.5  2005-04-02 23:33:39        0   \n",
       "3         1       47     3.5  2005-04-02 23:32:07        0   \n",
       "4         1       50     3.5  2005-04-02 23:29:40        0   \n",
       "..      ...      ...     ...                  ...      ...   \n",
       "170       1     8507     5.0  2004-09-10 03:13:47        1   \n",
       "171       1     8636     4.5  2005-04-02 23:44:53        1   \n",
       "172       1     8690     3.5  2005-04-02 23:33:15        0   \n",
       "173       1     8961     4.0  2005-04-02 23:47:09        1   \n",
       "174       1    31696     4.0  2005-04-02 23:49:08        1   \n",
       "\n",
       "                   date   yyyymm  lag_rating  mov_avg_rating  \n",
       "0   2005-04-02 23:53:47  2005-04         4.0             3.7  \n",
       "1   2005-04-02 23:31:16  2005-04         3.5             3.7  \n",
       "2   2005-04-02 23:33:39  2005-04         3.5             3.7  \n",
       "3   2005-04-02 23:32:07  2005-04         4.0             3.9  \n",
       "4   2005-04-02 23:29:40  2005-04         3.0             3.4  \n",
       "..                  ...      ...         ...             ...  \n",
       "170 2004-09-10 03:13:47  2004-09         3.5             3.6  \n",
       "171 2005-04-02 23:44:53  2005-04         3.5             3.8  \n",
       "172 2005-04-02 23:33:15  2005-04         4.0             3.8  \n",
       "173 2005-04-02 23:47:09  2005-04         3.5             3.5  \n",
       "174 2005-04-02 23:49:08  2005-04         4.0             4.0  \n",
       "\n",
       "[175 rows x 9 columns]"
      ]
     },
     "execution_count": 16,
     "metadata": {},
     "output_type": "execute_result"
    }
   ],
   "source": [
    "df_rating_feat[df_rating_feat['userId']==1]"
   ]
  },
  {
   "cell_type": "code",
   "execution_count": 17,
   "id": "63c57d73-a606-4611-b41c-1fba15383c7b",
   "metadata": {},
   "outputs": [],
   "source": [
    "#Split train-val-test por fecha de rating\n",
    "start_train = '1995-01'\n",
    "end_train = '2007-12'\n",
    "df_train = df_rating_feat[(df_rating_feat.yyyymm >= start_train) & (df_rating_feat.yyyymm <= end_train)]\n",
    "df_test = df_rating_feat[(df_rating_feat.yyyymm > end_train)]"
   ]
  },
  {
   "cell_type": "code",
   "execution_count": 18,
   "id": "4eed721b-ac95-4782-aff7-9fecf106cbe2",
   "metadata": {},
   "outputs": [
    {
     "name": "stdout",
     "output_type": "stream",
     "text": [
      "Train: 14063903 size: % 70.32\n",
      "Test: 5936360 size: % 29.68\n"
     ]
    }
   ],
   "source": [
    "print('Train:' , df_train.shape[0], 'size: %', round(df_train.shape[0] / df_rating.shape[0]* 100.0,2)) \n",
    "print('Test:' , df_test.shape[0], 'size: %', round(df_test.shape[0] / df_rating.shape[0]* 100.0,2)) "
   ]
  },
  {
   "cell_type": "markdown",
   "id": "d3acc014-80f5-441d-8149-0390c1ebdccc",
   "metadata": {
    "tags": []
   },
   "source": [
    "### Features"
   ]
  },
  {
   "cell_type": "markdown",
   "id": "6293656c-a556-4b13-84bf-887d1edf3c34",
   "metadata": {},
   "source": [
    "- Se generaron las siguientes features en base a usuario y peliculas\n",
    "\n",
    "    * Time Moving Average rating por usuario\n",
    "    * Rating promedio por usuario\n",
    "    * Media y Desviacion de rating por usuario\n",
    "    * Rating de película anterior\n",
    "    * antiguedad en meses por usuario desde su primer rating\n",
    "    * Cantidad de peliculas votadas por usuario\n",
    "    * Variables dummy de generos de cada película\n",
    "    * Año Pelicula\n",
    "    * Rating promedio por pelicula\n",
    "    * Media y Desviacion de rating por pelicula\n",
    "    * Popularidad de la película\n"
   ]
  },
  {
   "cell_type": "markdown",
   "id": "27d016c0-bcfa-41d3-8079-5cab227c273b",
   "metadata": {},
   "source": [
    "### Generate features"
   ]
  },
  {
   "cell_type": "code",
   "execution_count": 19,
   "id": "33e1b86c-08d8-4c19-9239-f99c20a8c286",
   "metadata": {},
   "outputs": [],
   "source": [
    "def generate_features (df):\n",
    "    df_movie_rating = df.groupby(['movieId'])['rating'].agg(movies_pop = 'count', avg_movie_rating='mean', std_movie_rating='std', median_movie_rating='median')\n",
    "    df_rating_user = df.groupby(['userId'])['rating'].agg(movies_views = 'count', avg_user_rating='mean',std_user_rating='std', median_user_rating='median')\n",
    "    df_user_time = df.groupby(['userId'])['timestamp'].agg(start = 'min', last='max')\n",
    "    df_user_time[['start','last']] = df_user_time[['start','last']].apply(pd.to_datetime)\n",
    "    df_user_time['antiguedad'] = (df_user_time['last'] - df_user_time['start']).dt.days\n",
    "    df_user_time = df_user_time.drop(columns=['start','last'], axis=1)\n",
    "    df_rating_user = df_rating_user.merge(df_user_time, left_index=True, right_index=True, how='left')\n",
    "    \n",
    "    return df_movie_rating, df_rating_user"
   ]
  },
  {
   "cell_type": "code",
   "execution_count": 20,
   "id": "1d041dee-089d-4557-83f5-82659422d908",
   "metadata": {},
   "outputs": [],
   "source": [
    "df_movie_rating, df_rating_user = generate_features(df_train)"
   ]
  },
  {
   "cell_type": "markdown",
   "id": "06120798-07a0-4fac-acb0-7104400a7c0a",
   "metadata": {},
   "source": [
    "### Dataset Users"
   ]
  },
  {
   "cell_type": "code",
   "execution_count": 21,
   "id": "f8d5b9b7-3372-490a-a69e-0250dd4d1345",
   "metadata": {},
   "outputs": [
    {
     "data": {
      "text/html": [
       "<div>\n",
       "<style scoped>\n",
       "    .dataframe tbody tr th:only-of-type {\n",
       "        vertical-align: middle;\n",
       "    }\n",
       "\n",
       "    .dataframe tbody tr th {\n",
       "        vertical-align: top;\n",
       "    }\n",
       "\n",
       "    .dataframe thead th {\n",
       "        text-align: right;\n",
       "    }\n",
       "</style>\n",
       "<table border=\"1\" class=\"dataframe\">\n",
       "  <thead>\n",
       "    <tr style=\"text-align: right;\">\n",
       "      <th></th>\n",
       "      <th>movies_views</th>\n",
       "      <th>avg_user_rating</th>\n",
       "      <th>std_user_rating</th>\n",
       "      <th>median_user_rating</th>\n",
       "      <th>antiguedad</th>\n",
       "    </tr>\n",
       "    <tr>\n",
       "      <th>userId</th>\n",
       "      <th></th>\n",
       "      <th></th>\n",
       "      <th></th>\n",
       "      <th></th>\n",
       "      <th></th>\n",
       "    </tr>\n",
       "  </thead>\n",
       "  <tbody>\n",
       "    <tr>\n",
       "      <th>1</th>\n",
       "      <td>175</td>\n",
       "      <td>3.742857</td>\n",
       "      <td>0.382284</td>\n",
       "      <td>4.0</td>\n",
       "      <td>204</td>\n",
       "    </tr>\n",
       "    <tr>\n",
       "      <th>2</th>\n",
       "      <td>61</td>\n",
       "      <td>4.000000</td>\n",
       "      <td>1.064581</td>\n",
       "      <td>4.0</td>\n",
       "      <td>0</td>\n",
       "    </tr>\n",
       "    <tr>\n",
       "      <th>3</th>\n",
       "      <td>187</td>\n",
       "      <td>4.122995</td>\n",
       "      <td>0.910427</td>\n",
       "      <td>4.0</td>\n",
       "      <td>3</td>\n",
       "    </tr>\n",
       "    <tr>\n",
       "      <th>4</th>\n",
       "      <td>28</td>\n",
       "      <td>3.571429</td>\n",
       "      <td>0.790151</td>\n",
       "      <td>4.0</td>\n",
       "      <td>0</td>\n",
       "    </tr>\n",
       "    <tr>\n",
       "      <th>5</th>\n",
       "      <td>66</td>\n",
       "      <td>4.272727</td>\n",
       "      <td>0.969464</td>\n",
       "      <td>5.0</td>\n",
       "      <td>1</td>\n",
       "    </tr>\n",
       "  </tbody>\n",
       "</table>\n",
       "</div>"
      ],
      "text/plain": [
       "        movies_views  avg_user_rating  std_user_rating  median_user_rating  \\\n",
       "userId                                                                       \n",
       "1                175         3.742857         0.382284                 4.0   \n",
       "2                 61         4.000000         1.064581                 4.0   \n",
       "3                187         4.122995         0.910427                 4.0   \n",
       "4                 28         3.571429         0.790151                 4.0   \n",
       "5                 66         4.272727         0.969464                 5.0   \n",
       "\n",
       "        antiguedad  \n",
       "userId              \n",
       "1              204  \n",
       "2                0  \n",
       "3                3  \n",
       "4                0  \n",
       "5                1  "
      ]
     },
     "execution_count": 21,
     "metadata": {},
     "output_type": "execute_result"
    }
   ],
   "source": [
    "# dataset origen en la funcion generate_features\n",
    "df_rating_user.head()"
   ]
  },
  {
   "cell_type": "markdown",
   "id": "d49ebeeb-d38d-4ef2-85cc-ba50c5b6a678",
   "metadata": {
    "tags": []
   },
   "source": [
    "#### Dataset Peliculas"
   ]
  },
  {
   "cell_type": "markdown",
   "id": "4d60e4bc-d23a-417f-9f96-671dcbdb84da",
   "metadata": {},
   "source": [
    "- Año de pelicula"
   ]
  },
  {
   "cell_type": "code",
   "execution_count": 23,
   "id": "77147549-d9eb-48b9-b3dc-8670999ac79b",
   "metadata": {},
   "outputs": [
    {
     "data": {
      "text/plain": [
       "(19, 4)"
      ]
     },
     "execution_count": 23,
     "metadata": {},
     "output_type": "execute_result"
    }
   ],
   "source": [
    "#extraemos el año del film del título, observo que no siempre se encuentran entre parentesis y en algunos casos no son los unicos numeron entre parentesis por lo que ajusto el siguiente RegeX\n",
    "df_movie['year'] = df_movie.title.str.extract(r\"\\((\\d{4})\", expand=True)[0]\n",
    "df_movie[df_movie.isna().any(axis=1)].shape\n",
    "#Tenemos 19 peliculas que no contamos con el dato de año"
   ]
  },
  {
   "cell_type": "markdown",
   "id": "210ef9de-0bbb-4404-86c9-1fbf5b819a06",
   "metadata": {},
   "source": [
    "- Generos"
   ]
  },
  {
   "cell_type": "code",
   "execution_count": 27,
   "id": "d2d396bd-619e-453d-b463-d6e672f7fee4",
   "metadata": {},
   "outputs": [
    {
     "data": {
      "text/plain": [
       "20"
      ]
     },
     "execution_count": 27,
     "metadata": {},
     "output_type": "execute_result"
    }
   ],
   "source": [
    "generos = list(df_movie['genres'].str.split('|'))\n",
    "flat_list = [item for sublist in generos for item in sublist]\n",
    "flat_list.remove('(no genres listed)')\n",
    "len(set(flat_list))"
   ]
  },
  {
   "cell_type": "code",
   "execution_count": 28,
   "id": "6df67dc6-2824-4405-a0d3-f29fc06cdbbd",
   "metadata": {},
   "outputs": [],
   "source": [
    "movie_oh_genres = df_movie['genres'].str.get_dummies('|')"
   ]
  },
  {
   "cell_type": "code",
   "execution_count": 29,
   "id": "9f9a25c7-a382-4a60-a08e-1be3b5e96476",
   "metadata": {},
   "outputs": [
    {
     "data": {
      "text/plain": [
       "(246, 20)"
      ]
     },
     "execution_count": 29,
     "metadata": {},
     "output_type": "execute_result"
    }
   ],
   "source": [
    "movie_oh_genres[movie_oh_genres['(no genres listed)']==1].shape"
   ]
  },
  {
   "cell_type": "code",
   "execution_count": 30,
   "id": "8cda886c-5a4b-4cd2-844a-afa5f479a792",
   "metadata": {},
   "outputs": [],
   "source": [
    "movie_oh_genres = movie_oh_genres.drop(columns=['(no genres listed)'],  axis=1)"
   ]
  },
  {
   "cell_type": "code",
   "execution_count": 44,
   "id": "2f9719b6-f81d-4bbc-9a5c-28f3501fcb95",
   "metadata": {},
   "outputs": [
    {
     "data": {
      "text/html": [
       "<div>\n",
       "<style scoped>\n",
       "    .dataframe tbody tr th:only-of-type {\n",
       "        vertical-align: middle;\n",
       "    }\n",
       "\n",
       "    .dataframe tbody tr th {\n",
       "        vertical-align: top;\n",
       "    }\n",
       "\n",
       "    .dataframe thead th {\n",
       "        text-align: right;\n",
       "    }\n",
       "</style>\n",
       "<table border=\"1\" class=\"dataframe\">\n",
       "  <thead>\n",
       "    <tr style=\"text-align: right;\">\n",
       "      <th></th>\n",
       "      <th>movieId</th>\n",
       "      <th>title</th>\n",
       "      <th>genres</th>\n",
       "      <th>year</th>\n",
       "      <th>Action</th>\n",
       "      <th>Adventure</th>\n",
       "      <th>Animation</th>\n",
       "      <th>Children</th>\n",
       "      <th>Comedy</th>\n",
       "      <th>Crime</th>\n",
       "      <th>...</th>\n",
       "      <th>Mystery</th>\n",
       "      <th>Romance</th>\n",
       "      <th>Sci-Fi</th>\n",
       "      <th>Thriller</th>\n",
       "      <th>War</th>\n",
       "      <th>Western</th>\n",
       "      <th>movies_pop</th>\n",
       "      <th>avg_movie_rating</th>\n",
       "      <th>std_movie_rating</th>\n",
       "      <th>median_movie_rating</th>\n",
       "    </tr>\n",
       "  </thead>\n",
       "  <tbody>\n",
       "    <tr>\n",
       "      <th>0</th>\n",
       "      <td>1</td>\n",
       "      <td>Toy Story (1995)</td>\n",
       "      <td>Adventure|Animation|Children|Comedy|Fantasy</td>\n",
       "      <td>1995</td>\n",
       "      <td>0</td>\n",
       "      <td>1</td>\n",
       "      <td>1</td>\n",
       "      <td>1</td>\n",
       "      <td>1</td>\n",
       "      <td>0</td>\n",
       "      <td>...</td>\n",
       "      <td>0</td>\n",
       "      <td>0</td>\n",
       "      <td>0</td>\n",
       "      <td>0</td>\n",
       "      <td>0</td>\n",
       "      <td>0</td>\n",
       "      <td>37694.0</td>\n",
       "      <td>3.946344</td>\n",
       "      <td>0.893341</td>\n",
       "      <td>4.0</td>\n",
       "    </tr>\n",
       "    <tr>\n",
       "      <th>1</th>\n",
       "      <td>2</td>\n",
       "      <td>Jumanji (1995)</td>\n",
       "      <td>Adventure|Children|Fantasy</td>\n",
       "      <td>1995</td>\n",
       "      <td>0</td>\n",
       "      <td>1</td>\n",
       "      <td>0</td>\n",
       "      <td>1</td>\n",
       "      <td>0</td>\n",
       "      <td>0</td>\n",
       "      <td>...</td>\n",
       "      <td>0</td>\n",
       "      <td>0</td>\n",
       "      <td>0</td>\n",
       "      <td>0</td>\n",
       "      <td>0</td>\n",
       "      <td>0</td>\n",
       "      <td>17276.0</td>\n",
       "      <td>3.233329</td>\n",
       "      <td>0.960672</td>\n",
       "      <td>3.0</td>\n",
       "    </tr>\n",
       "    <tr>\n",
       "      <th>2</th>\n",
       "      <td>3</td>\n",
       "      <td>Grumpier Old Men (1995)</td>\n",
       "      <td>Comedy|Romance</td>\n",
       "      <td>1995</td>\n",
       "      <td>0</td>\n",
       "      <td>0</td>\n",
       "      <td>0</td>\n",
       "      <td>0</td>\n",
       "      <td>1</td>\n",
       "      <td>0</td>\n",
       "      <td>...</td>\n",
       "      <td>0</td>\n",
       "      <td>1</td>\n",
       "      <td>0</td>\n",
       "      <td>0</td>\n",
       "      <td>0</td>\n",
       "      <td>0</td>\n",
       "      <td>11847.0</td>\n",
       "      <td>3.161475</td>\n",
       "      <td>1.009853</td>\n",
       "      <td>3.0</td>\n",
       "    </tr>\n",
       "    <tr>\n",
       "      <th>3</th>\n",
       "      <td>4</td>\n",
       "      <td>Waiting to Exhale (1995)</td>\n",
       "      <td>Comedy|Drama|Romance</td>\n",
       "      <td>1995</td>\n",
       "      <td>0</td>\n",
       "      <td>0</td>\n",
       "      <td>0</td>\n",
       "      <td>0</td>\n",
       "      <td>1</td>\n",
       "      <td>0</td>\n",
       "      <td>...</td>\n",
       "      <td>0</td>\n",
       "      <td>1</td>\n",
       "      <td>0</td>\n",
       "      <td>0</td>\n",
       "      <td>0</td>\n",
       "      <td>0</td>\n",
       "      <td>2668.0</td>\n",
       "      <td>2.869753</td>\n",
       "      <td>1.089626</td>\n",
       "      <td>3.0</td>\n",
       "    </tr>\n",
       "    <tr>\n",
       "      <th>4</th>\n",
       "      <td>5</td>\n",
       "      <td>Father of the Bride Part II (1995)</td>\n",
       "      <td>Comedy</td>\n",
       "      <td>1995</td>\n",
       "      <td>0</td>\n",
       "      <td>0</td>\n",
       "      <td>0</td>\n",
       "      <td>0</td>\n",
       "      <td>1</td>\n",
       "      <td>0</td>\n",
       "      <td>...</td>\n",
       "      <td>0</td>\n",
       "      <td>0</td>\n",
       "      <td>0</td>\n",
       "      <td>0</td>\n",
       "      <td>0</td>\n",
       "      <td>0</td>\n",
       "      <td>10745.0</td>\n",
       "      <td>3.103211</td>\n",
       "      <td>0.955402</td>\n",
       "      <td>3.0</td>\n",
       "    </tr>\n",
       "  </tbody>\n",
       "</table>\n",
       "<p>5 rows × 27 columns</p>\n",
       "</div>"
      ],
      "text/plain": [
       "   movieId                               title  \\\n",
       "0        1                    Toy Story (1995)   \n",
       "1        2                      Jumanji (1995)   \n",
       "2        3             Grumpier Old Men (1995)   \n",
       "3        4            Waiting to Exhale (1995)   \n",
       "4        5  Father of the Bride Part II (1995)   \n",
       "\n",
       "                                        genres  year  Action  Adventure  \\\n",
       "0  Adventure|Animation|Children|Comedy|Fantasy  1995       0          1   \n",
       "1                   Adventure|Children|Fantasy  1995       0          1   \n",
       "2                               Comedy|Romance  1995       0          0   \n",
       "3                         Comedy|Drama|Romance  1995       0          0   \n",
       "4                                       Comedy  1995       0          0   \n",
       "\n",
       "   Animation  Children  Comedy  Crime  ...  Mystery  Romance  Sci-Fi  \\\n",
       "0          1         1       1      0  ...        0        0       0   \n",
       "1          0         1       0      0  ...        0        0       0   \n",
       "2          0         0       1      0  ...        0        1       0   \n",
       "3          0         0       1      0  ...        0        1       0   \n",
       "4          0         0       1      0  ...        0        0       0   \n",
       "\n",
       "   Thriller  War  Western  movies_pop  avg_movie_rating  std_movie_rating  \\\n",
       "0         0    0        0     37694.0          3.946344          0.893341   \n",
       "1         0    0        0     17276.0          3.233329          0.960672   \n",
       "2         0    0        0     11847.0          3.161475          1.009853   \n",
       "3         0    0        0      2668.0          2.869753          1.089626   \n",
       "4         0    0        0     10745.0          3.103211          0.955402   \n",
       "\n",
       "   median_movie_rating  \n",
       "0                  4.0  \n",
       "1                  3.0  \n",
       "2                  3.0  \n",
       "3                  3.0  \n",
       "4                  3.0  \n",
       "\n",
       "[5 rows x 27 columns]"
      ]
     },
     "execution_count": 44,
     "metadata": {},
     "output_type": "execute_result"
    }
   ],
   "source": [
    "df_movies_oh = df_movie.merge(movie_oh_genres, left_index=True, right_index=True, how='left')\n",
    "df_movies_oh = df_movies_oh.merge(df_movie_rating, left_on='movieId', right_index=True, how='left')\n",
    "df_movies_oh.head()"
   ]
  },
  {
   "cell_type": "code",
   "execution_count": 45,
   "id": "33fdd0b5-5d76-4666-8697-d0e30d7caabb",
   "metadata": {},
   "outputs": [],
   "source": [
    "#Dataset de peliculas\n",
    "df_movies_oh = df_movies_oh.drop(columns=['title','genres'], axis=1)"
   ]
  },
  {
   "cell_type": "code",
   "execution_count": 33,
   "id": "bb17ee26-2131-4ee7-afe1-56e0884223c7",
   "metadata": {},
   "outputs": [
    {
     "data": {
      "text/html": [
       "<div>\n",
       "<style scoped>\n",
       "    .dataframe tbody tr th:only-of-type {\n",
       "        vertical-align: middle;\n",
       "    }\n",
       "\n",
       "    .dataframe tbody tr th {\n",
       "        vertical-align: top;\n",
       "    }\n",
       "\n",
       "    .dataframe thead th {\n",
       "        text-align: right;\n",
       "    }\n",
       "</style>\n",
       "<table border=\"1\" class=\"dataframe\">\n",
       "  <thead>\n",
       "    <tr style=\"text-align: right;\">\n",
       "      <th></th>\n",
       "      <th>userId</th>\n",
       "      <th>movieId</th>\n",
       "      <th>rating</th>\n",
       "      <th>timestamp</th>\n",
       "      <th>fl_high</th>\n",
       "      <th>date</th>\n",
       "      <th>yyyymm</th>\n",
       "      <th>lag_rating</th>\n",
       "      <th>mov_avg_rating</th>\n",
       "    </tr>\n",
       "  </thead>\n",
       "  <tbody>\n",
       "    <tr>\n",
       "      <th>0</th>\n",
       "      <td>1</td>\n",
       "      <td>2</td>\n",
       "      <td>3.5</td>\n",
       "      <td>2005-04-02 23:53:47</td>\n",
       "      <td>0</td>\n",
       "      <td>2005-04-02 23:53:47</td>\n",
       "      <td>2005-04</td>\n",
       "      <td>4.0</td>\n",
       "      <td>3.7</td>\n",
       "    </tr>\n",
       "    <tr>\n",
       "      <th>1</th>\n",
       "      <td>1</td>\n",
       "      <td>29</td>\n",
       "      <td>3.5</td>\n",
       "      <td>2005-04-02 23:31:16</td>\n",
       "      <td>0</td>\n",
       "      <td>2005-04-02 23:31:16</td>\n",
       "      <td>2005-04</td>\n",
       "      <td>3.5</td>\n",
       "      <td>3.7</td>\n",
       "    </tr>\n",
       "    <tr>\n",
       "      <th>2</th>\n",
       "      <td>1</td>\n",
       "      <td>32</td>\n",
       "      <td>3.5</td>\n",
       "      <td>2005-04-02 23:33:39</td>\n",
       "      <td>0</td>\n",
       "      <td>2005-04-02 23:33:39</td>\n",
       "      <td>2005-04</td>\n",
       "      <td>3.5</td>\n",
       "      <td>3.7</td>\n",
       "    </tr>\n",
       "    <tr>\n",
       "      <th>3</th>\n",
       "      <td>1</td>\n",
       "      <td>47</td>\n",
       "      <td>3.5</td>\n",
       "      <td>2005-04-02 23:32:07</td>\n",
       "      <td>0</td>\n",
       "      <td>2005-04-02 23:32:07</td>\n",
       "      <td>2005-04</td>\n",
       "      <td>4.0</td>\n",
       "      <td>3.9</td>\n",
       "    </tr>\n",
       "    <tr>\n",
       "      <th>4</th>\n",
       "      <td>1</td>\n",
       "      <td>50</td>\n",
       "      <td>3.5</td>\n",
       "      <td>2005-04-02 23:29:40</td>\n",
       "      <td>0</td>\n",
       "      <td>2005-04-02 23:29:40</td>\n",
       "      <td>2005-04</td>\n",
       "      <td>3.0</td>\n",
       "      <td>3.4</td>\n",
       "    </tr>\n",
       "  </tbody>\n",
       "</table>\n",
       "</div>"
      ],
      "text/plain": [
       "   userId  movieId  rating            timestamp  fl_high                date  \\\n",
       "0       1        2     3.5  2005-04-02 23:53:47        0 2005-04-02 23:53:47   \n",
       "1       1       29     3.5  2005-04-02 23:31:16        0 2005-04-02 23:31:16   \n",
       "2       1       32     3.5  2005-04-02 23:33:39        0 2005-04-02 23:33:39   \n",
       "3       1       47     3.5  2005-04-02 23:32:07        0 2005-04-02 23:32:07   \n",
       "4       1       50     3.5  2005-04-02 23:29:40        0 2005-04-02 23:29:40   \n",
       "\n",
       "    yyyymm  lag_rating  mov_avg_rating  \n",
       "0  2005-04         4.0             3.7  \n",
       "1  2005-04         3.5             3.7  \n",
       "2  2005-04         3.5             3.7  \n",
       "3  2005-04         4.0             3.9  \n",
       "4  2005-04         3.0             3.4  "
      ]
     },
     "execution_count": 33,
     "metadata": {},
     "output_type": "execute_result"
    }
   ],
   "source": [
    "df_train.head()"
   ]
  },
  {
   "cell_type": "code",
   "execution_count": 34,
   "id": "f6078aa9-925c-4128-8caa-439c7310cca9",
   "metadata": {},
   "outputs": [
    {
     "data": {
      "text/html": [
       "<div>\n",
       "<style scoped>\n",
       "    .dataframe tbody tr th:only-of-type {\n",
       "        vertical-align: middle;\n",
       "    }\n",
       "\n",
       "    .dataframe tbody tr th {\n",
       "        vertical-align: top;\n",
       "    }\n",
       "\n",
       "    .dataframe thead th {\n",
       "        text-align: right;\n",
       "    }\n",
       "</style>\n",
       "<table border=\"1\" class=\"dataframe\">\n",
       "  <thead>\n",
       "    <tr style=\"text-align: right;\">\n",
       "      <th></th>\n",
       "      <th>movies_views</th>\n",
       "      <th>avg_user_rating</th>\n",
       "      <th>std_user_rating</th>\n",
       "      <th>median_user_rating</th>\n",
       "      <th>antiguedad</th>\n",
       "    </tr>\n",
       "    <tr>\n",
       "      <th>userId</th>\n",
       "      <th></th>\n",
       "      <th></th>\n",
       "      <th></th>\n",
       "      <th></th>\n",
       "      <th></th>\n",
       "    </tr>\n",
       "  </thead>\n",
       "  <tbody>\n",
       "    <tr>\n",
       "      <th>1</th>\n",
       "      <td>175</td>\n",
       "      <td>3.742857</td>\n",
       "      <td>0.382284</td>\n",
       "      <td>4.0</td>\n",
       "      <td>204</td>\n",
       "    </tr>\n",
       "    <tr>\n",
       "      <th>2</th>\n",
       "      <td>61</td>\n",
       "      <td>4.000000</td>\n",
       "      <td>1.064581</td>\n",
       "      <td>4.0</td>\n",
       "      <td>0</td>\n",
       "    </tr>\n",
       "    <tr>\n",
       "      <th>3</th>\n",
       "      <td>187</td>\n",
       "      <td>4.122995</td>\n",
       "      <td>0.910427</td>\n",
       "      <td>4.0</td>\n",
       "      <td>3</td>\n",
       "    </tr>\n",
       "    <tr>\n",
       "      <th>4</th>\n",
       "      <td>28</td>\n",
       "      <td>3.571429</td>\n",
       "      <td>0.790151</td>\n",
       "      <td>4.0</td>\n",
       "      <td>0</td>\n",
       "    </tr>\n",
       "    <tr>\n",
       "      <th>5</th>\n",
       "      <td>66</td>\n",
       "      <td>4.272727</td>\n",
       "      <td>0.969464</td>\n",
       "      <td>5.0</td>\n",
       "      <td>1</td>\n",
       "    </tr>\n",
       "  </tbody>\n",
       "</table>\n",
       "</div>"
      ],
      "text/plain": [
       "        movies_views  avg_user_rating  std_user_rating  median_user_rating  \\\n",
       "userId                                                                       \n",
       "1                175         3.742857         0.382284                 4.0   \n",
       "2                 61         4.000000         1.064581                 4.0   \n",
       "3                187         4.122995         0.910427                 4.0   \n",
       "4                 28         3.571429         0.790151                 4.0   \n",
       "5                 66         4.272727         0.969464                 5.0   \n",
       "\n",
       "        antiguedad  \n",
       "userId              \n",
       "1              204  \n",
       "2                0  \n",
       "3                3  \n",
       "4                0  \n",
       "5                1  "
      ]
     },
     "execution_count": 34,
     "metadata": {},
     "output_type": "execute_result"
    }
   ],
   "source": [
    "df_rating_user.head()"
   ]
  },
  {
   "cell_type": "code",
   "execution_count": 35,
   "id": "8a16d149-7c79-4cba-b903-7329dc4bb096",
   "metadata": {},
   "outputs": [
    {
     "data": {
      "text/html": [
       "<div>\n",
       "<style scoped>\n",
       "    .dataframe tbody tr th:only-of-type {\n",
       "        vertical-align: middle;\n",
       "    }\n",
       "\n",
       "    .dataframe tbody tr th {\n",
       "        vertical-align: top;\n",
       "    }\n",
       "\n",
       "    .dataframe thead th {\n",
       "        text-align: right;\n",
       "    }\n",
       "</style>\n",
       "<table border=\"1\" class=\"dataframe\">\n",
       "  <thead>\n",
       "    <tr style=\"text-align: right;\">\n",
       "      <th></th>\n",
       "      <th>movieId</th>\n",
       "      <th>year</th>\n",
       "      <th>movies_pop</th>\n",
       "      <th>avg_movie_rating</th>\n",
       "      <th>std_movie_rating</th>\n",
       "      <th>median_movie_rating</th>\n",
       "    </tr>\n",
       "  </thead>\n",
       "  <tbody>\n",
       "    <tr>\n",
       "      <th>0</th>\n",
       "      <td>1</td>\n",
       "      <td>1995</td>\n",
       "      <td>37694.0</td>\n",
       "      <td>3.946344</td>\n",
       "      <td>0.893341</td>\n",
       "      <td>4.0</td>\n",
       "    </tr>\n",
       "    <tr>\n",
       "      <th>1</th>\n",
       "      <td>2</td>\n",
       "      <td>1995</td>\n",
       "      <td>17276.0</td>\n",
       "      <td>3.233329</td>\n",
       "      <td>0.960672</td>\n",
       "      <td>3.0</td>\n",
       "    </tr>\n",
       "    <tr>\n",
       "      <th>2</th>\n",
       "      <td>3</td>\n",
       "      <td>1995</td>\n",
       "      <td>11847.0</td>\n",
       "      <td>3.161475</td>\n",
       "      <td>1.009853</td>\n",
       "      <td>3.0</td>\n",
       "    </tr>\n",
       "    <tr>\n",
       "      <th>3</th>\n",
       "      <td>4</td>\n",
       "      <td>1995</td>\n",
       "      <td>2668.0</td>\n",
       "      <td>2.869753</td>\n",
       "      <td>1.089626</td>\n",
       "      <td>3.0</td>\n",
       "    </tr>\n",
       "    <tr>\n",
       "      <th>4</th>\n",
       "      <td>5</td>\n",
       "      <td>1995</td>\n",
       "      <td>10745.0</td>\n",
       "      <td>3.103211</td>\n",
       "      <td>0.955402</td>\n",
       "      <td>3.0</td>\n",
       "    </tr>\n",
       "  </tbody>\n",
       "</table>\n",
       "</div>"
      ],
      "text/plain": [
       "   movieId  year  movies_pop  avg_movie_rating  std_movie_rating  \\\n",
       "0        1  1995     37694.0          3.946344          0.893341   \n",
       "1        2  1995     17276.0          3.233329          0.960672   \n",
       "2        3  1995     11847.0          3.161475          1.009853   \n",
       "3        4  1995      2668.0          2.869753          1.089626   \n",
       "4        5  1995     10745.0          3.103211          0.955402   \n",
       "\n",
       "   median_movie_rating  \n",
       "0                  4.0  \n",
       "1                  3.0  \n",
       "2                  3.0  \n",
       "3                  3.0  \n",
       "4                  3.0  "
      ]
     },
     "execution_count": 35,
     "metadata": {},
     "output_type": "execute_result"
    }
   ],
   "source": [
    "df_movies_oh.head()"
   ]
  },
  {
   "cell_type": "markdown",
   "id": "d13babe8-211e-4124-b840-0c81d746d924",
   "metadata": {},
   "source": [
    "### Dataset final"
   ]
  },
  {
   "cell_type": "code",
   "execution_count": 53,
   "id": "52fd165a-1ebb-4988-ae94-3eef9aa17803",
   "metadata": {},
   "outputs": [],
   "source": [
    "def generate_dataset(df):\n",
    "    movielens_data = df.drop(columns=['rating', 'timestamp', 'date', 'yyyymm'], axis = 1)\n",
    "    movielens_data = movielens_data.merge(df_rating_user, left_on=['userId'], right_index=True, how='left')\n",
    "    movielens_data = movielens_data.merge(df_movies_oh, left_on=['movieId'], right_on=['movieId'], how='left')\n",
    "    #hadle miss values on test_data with median\n",
    "    col_null = movielens_data.columns[movielens_data.isna().any()].tolist()\n",
    "    for col in col_null:\n",
    "        movielens_data[col].fillna(movielens_data[col].median(),inplace=True)\n",
    "    movielens_data = movielens_data.set_index(['userId', 'movieId'])\n",
    "    return movielens_data"
   ]
  },
  {
   "cell_type": "code",
   "execution_count": 54,
   "id": "0713bc7d-2dd7-48fa-a84f-716d0e8b13db",
   "metadata": {},
   "outputs": [],
   "source": [
    "train_data = generate_dataset(df_train)\n",
    "test_data = generate_dataset(df_test)"
   ]
  },
  {
   "cell_type": "code",
   "execution_count": 50,
   "id": "bf168383-7ca8-403b-8a81-9d8a08cb8e19",
   "metadata": {},
   "outputs": [
    {
     "data": {
      "text/plain": [
       "(14063903, 32)"
      ]
     },
     "execution_count": 50,
     "metadata": {},
     "output_type": "execute_result"
    }
   ],
   "source": [
    "train_data.shape"
   ]
  },
  {
   "cell_type": "code",
   "execution_count": 55,
   "id": "789ad8e9-69ba-46ab-8d5a-912498dfe1fc",
   "metadata": {},
   "outputs": [
    {
     "data": {
      "text/plain": [
       "(5936360, 32)"
      ]
     },
     "execution_count": 55,
     "metadata": {},
     "output_type": "execute_result"
    }
   ],
   "source": [
    "test_data.shape"
   ]
  },
  {
   "cell_type": "code",
   "execution_count": 49,
   "id": "acb8d6fe-4973-4d1f-9e23-fe741b339d29",
   "metadata": {},
   "outputs": [
    {
     "data": {
      "text/html": [
       "<div>\n",
       "<style scoped>\n",
       "    .dataframe tbody tr th:only-of-type {\n",
       "        vertical-align: middle;\n",
       "    }\n",
       "\n",
       "    .dataframe tbody tr th {\n",
       "        vertical-align: top;\n",
       "    }\n",
       "\n",
       "    .dataframe thead th {\n",
       "        text-align: right;\n",
       "    }\n",
       "</style>\n",
       "<table border=\"1\" class=\"dataframe\">\n",
       "  <thead>\n",
       "    <tr style=\"text-align: right;\">\n",
       "      <th></th>\n",
       "      <th></th>\n",
       "      <th>fl_high</th>\n",
       "      <th>lag_rating</th>\n",
       "      <th>mov_avg_rating</th>\n",
       "      <th>movies_views</th>\n",
       "      <th>avg_user_rating</th>\n",
       "      <th>std_user_rating</th>\n",
       "      <th>median_user_rating</th>\n",
       "      <th>antiguedad</th>\n",
       "      <th>year</th>\n",
       "      <th>Action</th>\n",
       "      <th>...</th>\n",
       "      <th>Mystery</th>\n",
       "      <th>Romance</th>\n",
       "      <th>Sci-Fi</th>\n",
       "      <th>Thriller</th>\n",
       "      <th>War</th>\n",
       "      <th>Western</th>\n",
       "      <th>movies_pop</th>\n",
       "      <th>avg_movie_rating</th>\n",
       "      <th>std_movie_rating</th>\n",
       "      <th>median_movie_rating</th>\n",
       "    </tr>\n",
       "    <tr>\n",
       "      <th>userId</th>\n",
       "      <th>movieId</th>\n",
       "      <th></th>\n",
       "      <th></th>\n",
       "      <th></th>\n",
       "      <th></th>\n",
       "      <th></th>\n",
       "      <th></th>\n",
       "      <th></th>\n",
       "      <th></th>\n",
       "      <th></th>\n",
       "      <th></th>\n",
       "      <th></th>\n",
       "      <th></th>\n",
       "      <th></th>\n",
       "      <th></th>\n",
       "      <th></th>\n",
       "      <th></th>\n",
       "      <th></th>\n",
       "      <th></th>\n",
       "      <th></th>\n",
       "      <th></th>\n",
       "      <th></th>\n",
       "    </tr>\n",
       "  </thead>\n",
       "  <tbody>\n",
       "    <tr>\n",
       "      <th rowspan=\"5\" valign=\"top\">11</th>\n",
       "      <th>1</th>\n",
       "      <td>1</td>\n",
       "      <td>5.0</td>\n",
       "      <td>3.2</td>\n",
       "      <td>480.0</td>\n",
       "      <td>3.459611</td>\n",
       "      <td>0.877361</td>\n",
       "      <td>3.5</td>\n",
       "      <td>730.0</td>\n",
       "      <td>1995</td>\n",
       "      <td>0</td>\n",
       "      <td>...</td>\n",
       "      <td>0</td>\n",
       "      <td>0</td>\n",
       "      <td>0</td>\n",
       "      <td>0</td>\n",
       "      <td>0</td>\n",
       "      <td>0</td>\n",
       "      <td>37694.0</td>\n",
       "      <td>3.946344</td>\n",
       "      <td>0.893341</td>\n",
       "      <td>4.0</td>\n",
       "    </tr>\n",
       "    <tr>\n",
       "      <th>10</th>\n",
       "      <td>0</td>\n",
       "      <td>4.0</td>\n",
       "      <td>3.9</td>\n",
       "      <td>480.0</td>\n",
       "      <td>3.459611</td>\n",
       "      <td>0.877361</td>\n",
       "      <td>3.5</td>\n",
       "      <td>730.0</td>\n",
       "      <td>1995</td>\n",
       "      <td>1</td>\n",
       "      <td>...</td>\n",
       "      <td>0</td>\n",
       "      <td>0</td>\n",
       "      <td>0</td>\n",
       "      <td>1</td>\n",
       "      <td>0</td>\n",
       "      <td>0</td>\n",
       "      <td>24757.0</td>\n",
       "      <td>3.429091</td>\n",
       "      <td>0.856181</td>\n",
       "      <td>3.0</td>\n",
       "    </tr>\n",
       "    <tr>\n",
       "      <th>19</th>\n",
       "      <td>0</td>\n",
       "      <td>3.5</td>\n",
       "      <td>4.3</td>\n",
       "      <td>480.0</td>\n",
       "      <td>3.459611</td>\n",
       "      <td>0.877361</td>\n",
       "      <td>3.5</td>\n",
       "      <td>730.0</td>\n",
       "      <td>1995</td>\n",
       "      <td>0</td>\n",
       "      <td>...</td>\n",
       "      <td>0</td>\n",
       "      <td>0</td>\n",
       "      <td>0</td>\n",
       "      <td>0</td>\n",
       "      <td>0</td>\n",
       "      <td>0</td>\n",
       "      <td>16658.0</td>\n",
       "      <td>2.566485</td>\n",
       "      <td>1.140531</td>\n",
       "      <td>3.0</td>\n",
       "    </tr>\n",
       "    <tr>\n",
       "      <th>32</th>\n",
       "      <td>1</td>\n",
       "      <td>3.0</td>\n",
       "      <td>4.1</td>\n",
       "      <td>480.0</td>\n",
       "      <td>3.459611</td>\n",
       "      <td>0.877361</td>\n",
       "      <td>3.5</td>\n",
       "      <td>730.0</td>\n",
       "      <td>1995</td>\n",
       "      <td>0</td>\n",
       "      <td>...</td>\n",
       "      <td>1</td>\n",
       "      <td>0</td>\n",
       "      <td>1</td>\n",
       "      <td>1</td>\n",
       "      <td>0</td>\n",
       "      <td>0</td>\n",
       "      <td>34883.0</td>\n",
       "      <td>3.874394</td>\n",
       "      <td>0.891318</td>\n",
       "      <td>4.0</td>\n",
       "    </tr>\n",
       "    <tr>\n",
       "      <th>39</th>\n",
       "      <td>1</td>\n",
       "      <td>4.0</td>\n",
       "      <td>4.2</td>\n",
       "      <td>480.0</td>\n",
       "      <td>3.459611</td>\n",
       "      <td>0.877361</td>\n",
       "      <td>3.5</td>\n",
       "      <td>730.0</td>\n",
       "      <td>1995</td>\n",
       "      <td>0</td>\n",
       "      <td>...</td>\n",
       "      <td>0</td>\n",
       "      <td>1</td>\n",
       "      <td>0</td>\n",
       "      <td>0</td>\n",
       "      <td>0</td>\n",
       "      <td>0</td>\n",
       "      <td>22687.0</td>\n",
       "      <td>3.444616</td>\n",
       "      <td>0.966184</td>\n",
       "      <td>3.5</td>\n",
       "    </tr>\n",
       "  </tbody>\n",
       "</table>\n",
       "<p>5 rows × 32 columns</p>\n",
       "</div>"
      ],
      "text/plain": [
       "                fl_high  lag_rating  mov_avg_rating  movies_views  \\\n",
       "userId movieId                                                      \n",
       "11     1              1         5.0             3.2         480.0   \n",
       "       10             0         4.0             3.9         480.0   \n",
       "       19             0         3.5             4.3         480.0   \n",
       "       32             1         3.0             4.1         480.0   \n",
       "       39             1         4.0             4.2         480.0   \n",
       "\n",
       "                avg_user_rating  std_user_rating  median_user_rating  \\\n",
       "userId movieId                                                         \n",
       "11     1               3.459611         0.877361                 3.5   \n",
       "       10              3.459611         0.877361                 3.5   \n",
       "       19              3.459611         0.877361                 3.5   \n",
       "       32              3.459611         0.877361                 3.5   \n",
       "       39              3.459611         0.877361                 3.5   \n",
       "\n",
       "                antiguedad  year  Action  ...  Mystery  Romance  Sci-Fi  \\\n",
       "userId movieId                            ...                             \n",
       "11     1             730.0  1995       0  ...        0        0       0   \n",
       "       10            730.0  1995       1  ...        0        0       0   \n",
       "       19            730.0  1995       0  ...        0        0       0   \n",
       "       32            730.0  1995       0  ...        1        0       1   \n",
       "       39            730.0  1995       0  ...        0        1       0   \n",
       "\n",
       "                Thriller  War  Western  movies_pop  avg_movie_rating  \\\n",
       "userId movieId                                                         \n",
       "11     1               0    0        0     37694.0          3.946344   \n",
       "       10              1    0        0     24757.0          3.429091   \n",
       "       19              0    0        0     16658.0          2.566485   \n",
       "       32              1    0        0     34883.0          3.874394   \n",
       "       39              0    0        0     22687.0          3.444616   \n",
       "\n",
       "                std_movie_rating  median_movie_rating  \n",
       "userId movieId                                         \n",
       "11     1                0.893341                  4.0  \n",
       "       10               0.856181                  3.0  \n",
       "       19               1.140531                  3.0  \n",
       "       32               0.891318                  4.0  \n",
       "       39               0.966184                  3.5  \n",
       "\n",
       "[5 rows x 32 columns]"
      ]
     },
     "execution_count": 49,
     "metadata": {},
     "output_type": "execute_result"
    }
   ],
   "source": [
    "test_data.head()"
   ]
  },
  {
   "cell_type": "markdown",
   "id": "916242a1-d12e-4c79-8011-d6580e8f1a94",
   "metadata": {},
   "source": [
    "### Export"
   ]
  },
  {
   "cell_type": "code",
   "execution_count": 57,
   "id": "23b6b4f2-91d3-4899-996e-eb40fab3fd50",
   "metadata": {},
   "outputs": [],
   "source": [
    "train_data['year'] = train_data['year'].astype(int)\n",
    "test_data['year'] = test_data['year'].astype(int)"
   ]
  },
  {
   "cell_type": "code",
   "execution_count": 58,
   "id": "b5dd0084-8b69-4bbc-9d9a-97f3b8367f1f",
   "metadata": {},
   "outputs": [],
   "source": [
    "train_data.to_parquet('data/train_data.parquet', engine='pyarrow')\n",
    "test_data.to_parquet('data/test_data.parquet', engine='pyarrow')"
   ]
  },
  {
   "cell_type": "markdown",
   "id": "75137b30-2f62-460f-b6d2-6a511887153f",
   "metadata": {},
   "source": [
    "### Other Features\n",
    "\n",
    "* Por cuestion de tiempos no pude, pero me hubiese gustado intentar probar realizar una multiplicación de vectores con el rating promedio por usuario de todos los generos y el vector boleano de llos generos de la película, dividido por la cantidad de generos de las peliculas. Creo que esta es una manera en que podemos captar la relacion de las preferencias del usuario en cuanto a generos específico.\n",
    "* Si la fecha fuera realmente el momento en el que vio y puntuó la pelicula, podriamos utilizar esa información aplicando una transformacion de seno, coseno sobre la variable tiempo, ya que podría afectar la puntuación de un usuario.\n",
    "* Por un tema de tiempos no consideré la variable de tags ya que a mis consideración para su correcta implementación es necesario eliminar el efecto de las etiquetas creadas libremente por el usuario, mediante un proceso de mapeo, las etiquetas originales que comparten el contexto común se agrupan en una nueva etiqueta asociada con una puntuación compuesta. Más específicamente, se realiza un paso de limpieza que incluye lematización y eliminación de palabras vacías y caracteres no alfabéticos para generar una forma apropiada de genoma de etiqueta sin procesar. Luego aplicar word2vec para agruparlos. \n",
    "* Analizar la posibilidad de incluir data externa como la base de Imdb relacionado por Id, en el cual podriamos considerar los protagonistas de las pelicula, el director, presupuesto, entre otras."
   ]
  }
 ],
 "metadata": {
  "kernelspec": {
   "display_name": "Python 3 (ipykernel)",
   "language": "python",
   "name": "python3"
  },
  "language_info": {
   "codemirror_mode": {
    "name": "ipython",
    "version": 3
   },
   "file_extension": ".py",
   "mimetype": "text/x-python",
   "name": "python",
   "nbconvert_exporter": "python",
   "pygments_lexer": "ipython3",
   "version": "3.9.7"
  }
 },
 "nbformat": 4,
 "nbformat_minor": 5
}
